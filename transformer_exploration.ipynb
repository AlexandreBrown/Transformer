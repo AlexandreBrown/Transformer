{
 "cells": [
  {
   "cell_type": "code",
   "execution_count": 222,
   "metadata": {},
   "outputs": [],
   "source": [
    "import torch.nn as nn\n",
    "import torch.nn.functional as F\n",
    "import torch\n",
    "import math\n",
    "import matplotlib.pyplot as plt\n",
    "from transformers import AutoTokenizer"
   ]
  },
  {
   "cell_type": "code",
   "execution_count": 223,
   "metadata": {},
   "outputs": [],
   "source": [
    "d_model = 512\n",
    "d_k = 64\n",
    "d_v = d_k\n",
    "batch_size = 2\n",
    "max_seq_length = 9\n",
    "texts = [\"Hello world!\", \"Hi, how are you today?\"]\n",
    "num_heads = 8\n",
    "d_ff = 2048\n",
    "num_encoder_layers = 6\n",
    "num_decoder_layers = 6"
   ]
  },
  {
   "cell_type": "markdown",
   "metadata": {},
   "source": [
    "# Input/Output Embedding Layers"
   ]
  },
  {
   "cell_type": "markdown",
   "metadata": {},
   "source": [
    "<img src=\"img/embedding_layers.png\" height=\"500px\"/>"
   ]
  },
  {
   "cell_type": "markdown",
   "metadata": {},
   "source": [
    "<img src=\"img/embedding_softmax.png\" height=\"150px\">"
   ]
  },
  {
   "cell_type": "code",
   "execution_count": 224,
   "metadata": {},
   "outputs": [],
   "source": [
    "class TextEmbedder(nn.Module):\n",
    "    def __init__(self, d_model: int, verbose: bool = False):\n",
    "        super().__init__()\n",
    "        self.tokenizer = AutoTokenizer.from_pretrained(\"bert-base-uncased\")\n",
    "        self.vocab_size = self.tokenizer.vocab_size\n",
    "        self.embedding_dim = d_model\n",
    "        self.embeddings_map = nn.Embedding(num_embeddings=self.vocab_size, embedding_dim=self.embedding_dim)\n",
    "        self.verbose = verbose\n",
    "\n",
    "    def forward(self, x: list[str]) -> torch.Tensor:\n",
    "        tokens = self.tokenizer(x, padding=True, truncation=True, return_tensors=\"pt\")\n",
    "        \n",
    "        tokens_ids = tokens[\"input_ids\"]\n",
    "        \n",
    "        embeddings = self.embeddings_map(tokens_ids) * math.sqrt(self.embedding_dim)\n",
    "\n",
    "        if self.verbose:\n",
    "            print(f\"tokens_ids shape: {tokens_ids.shape}\\ntoken_ids: {tokens_ids}\")\n",
    "            print(f\"embeddings shape : {embeddings.shape}\")\n",
    "        \n",
    "        return embeddings\n",
    "\n",
    "    def get_embedding_weights(self) -> torch.Tensor:\n",
    "        return self.embeddings_map.weight"
   ]
  },
  {
   "cell_type": "markdown",
   "metadata": {},
   "source": [
    "## Smoke Test"
   ]
  },
  {
   "cell_type": "code",
   "execution_count": 225,
   "metadata": {},
   "outputs": [
    {
     "name": "stdout",
     "output_type": "stream",
     "text": [
      "tokens_ids shape: torch.Size([2, 9])\n",
      "token_ids: tensor([[ 101, 7592, 2088,  999,  102,    0,    0,    0,    0],\n",
      "        [ 101, 7632, 1010, 2129, 2024, 2017, 2651, 1029,  102]])\n",
      "embeddings shape : torch.Size([2, 9, 512])\n"
     ]
    }
   ],
   "source": [
    "text_embedder = TextEmbedder(d_model=d_model, verbose=True)\n",
    "embeddings = text_embedder(texts)"
   ]
  },
  {
   "cell_type": "markdown",
   "metadata": {},
   "source": [
    "# Positional Encoding"
   ]
  },
  {
   "cell_type": "markdown",
   "metadata": {},
   "source": [
    "<img src=\"img/positional_encoding_layers.png\" height=\"500px\"/>"
   ]
  },
  {
   "cell_type": "markdown",
   "metadata": {},
   "source": [
    "<img src=\"img/positional_encoding.png\" height=\"150px\">"
   ]
  },
  {
   "cell_type": "code",
   "execution_count": 248,
   "metadata": {},
   "outputs": [],
   "source": [
    "class PositionalEncoding(nn.Module):\n",
    "    def __init__(self, d_model: int, max_seq_length: int):\n",
    "        super().__init__()\n",
    "        self.d_model = d_model\n",
    "        self.max_seq_length = max_seq_length\n",
    "        self.register_buffer('positional_encoding', self.compute_sin_cos_pos_encoding_matrix())\n",
    "    \n",
    "    def compute_sin_cos_pos_encoding_matrix(self):\n",
    "        self.sequence_positions = torch.arange(0, self.max_seq_length).unsqueeze(1)\n",
    "        self.even_embed_indexes = torch.arange(0, self.d_model, 2)\n",
    "        self.odd_embed_indexes = torch.arange(1, self.d_model, 2)\n",
    "\n",
    "        positional_encoding_matrix = torch.zeros((1, self.max_seq_length, self.d_model))\n",
    "\n",
    "        division_term = 10_000**(self.even_embed_indexes/self.d_model)\n",
    "\n",
    "        scaled_sequence_position = self.sequence_positions / division_term\n",
    "\n",
    "        positional_encoding_matrix[0, :, self.even_embed_indexes] = torch.sin(scaled_sequence_position)\n",
    "        positional_encoding_matrix[0, :, self.odd_embed_indexes] = torch.cos(scaled_sequence_position)\n",
    "\n",
    "        return positional_encoding_matrix\n",
    "\n",
    "    def forward(self, x: torch.Tensor) -> torch.Tensor:\n",
    "        assert x.shape[1] <= self.max_seq_length, f\"Max sequence length is {self.max_seq_length} but input has sequence length of {x.shape[1]}!\"\n",
    "        return x + self.positional_encoding"
   ]
  },
  {
   "cell_type": "markdown",
   "metadata": {},
   "source": [
    "## Smoke Test"
   ]
  },
  {
   "cell_type": "code",
   "execution_count": 227,
   "metadata": {},
   "outputs": [
    {
     "name": "stdout",
     "output_type": "stream",
     "text": [
      "Embedding (token 0, seq pos 0) before positional encoding : 5.509275436401367\n",
      "x.shape: torch.Size([2, 9, 512])\n",
      "x.shape: torch.Size([1, 9, 512])\n",
      "Embedding (token 0, seq pos 0) after positional encoding : 5.509275436401367\n",
      "position_aware_embeddings shape: torch.Size([2, 9, 512])\n"
     ]
    }
   ],
   "source": [
    "pe = PositionalEncoding(d_model=d_model, max_seq_length=max_seq_length)\n",
    "\n",
    "print(f\"Embedding (token 0, seq pos 0) before positional encoding : {embeddings[0, 0, 0]}\")\n",
    "\n",
    "position_aware_embeddings = pe(embeddings)\n",
    "\n",
    "print(f\"Embedding (token 0, seq pos 0) after positional encoding : {position_aware_embeddings[0, 0, 0]}\")\n",
    "\n",
    "print(f\"position_aware_embeddings shape: {position_aware_embeddings.shape}\")"
   ]
  },
  {
   "cell_type": "markdown",
   "metadata": {},
   "source": [
    "## Positional Encoding Visualization"
   ]
  },
  {
   "cell_type": "code",
   "execution_count": 228,
   "metadata": {},
   "outputs": [
    {
     "data": {
      "image/png": "[encoded data removed]",
      "text/plain": [
       "<Figure size 1000x800 with 4 Axes>"
      ]
     },
     "metadata": {},
     "output_type": "display_data"
    }
   ],
   "source": [
    "num_dimensions_to_plot = 4\n",
    "\n",
    "fig, axs = plt.subplots(num_dimensions_to_plot, 1, figsize=(10, 8), sharex=True)\n",
    "\n",
    "x = pe.sequence_positions.squeeze()\n",
    "\n",
    "for idx, i in enumerate(range(0, num_dimensions_to_plot)):  \n",
    "    y_sin = pe.positional_encoding[0, :, i * 2]  \n",
    "    y_cos = pe.positional_encoding[0, :, i * 2 + 1]  \n",
    "    \n",
    "    axs[idx].plot(x, y_sin, marker='o', linewidth=1, color='b')\n",
    "    axs[idx].plot(x, y_cos, marker='o', linewidth=1, color='r')\n",
    "    \n",
    "    axs[idx].set_ylabel(f\"Embed Pos {i * 2} and {i * 2 + 1}\")\n",
    "    axs[idx].grid(True)\n",
    "\n",
    "    if idx == 0:\n",
    "        axs[idx].legend(['Sine', 'Cosine'], loc='upper right')\n",
    "\n",
    "axs[-1].set_xlabel('Sequence Position')\n",
    "\n",
    "fig.suptitle('Sine and Cosine Components of Positional Encoding for Different Embedding Dimensions')\n",
    "\n",
    "plt.tight_layout()\n",
    "\n",
    "plt.show()"
   ]
  },
  {
   "cell_type": "markdown",
   "metadata": {},
   "source": [
    "# Scaled Dot-Product Attention"
   ]
  },
  {
   "cell_type": "markdown",
   "metadata": {},
   "source": [
    "<img src=\"img/scaled_dot_product_attention.png\" height=\"300px\">"
   ]
  },
  {
   "cell_type": "markdown",
   "metadata": {},
   "source": [
    "<img src=\"img/scaled_dot_product_attention_math.png\" height=\"100px\"/>"
   ]
  },
  {
   "cell_type": "code",
   "execution_count": 229,
   "metadata": {},
   "outputs": [],
   "source": [
    "class ScaledDotProductAttention(nn.Module):\n",
    "    def __init__(self, d_k: int):\n",
    "        super().__init__()\n",
    "        self.d_k = d_k\n",
    "\n",
    "    def forward(\n",
    "        self,\n",
    "        queries: torch.Tensor,\n",
    "        keys: torch.Tensor,\n",
    "        values: torch.Tensor,\n",
    "        mask: torch.Tensor = None\n",
    "    ) -> torch.Tensor:\n",
    "        \"\"\"\n",
    "        Args:\n",
    "            queries (torch.Tensor): (batch_size, num_heads, seq_length, head_dim)\n",
    "            keys (torch.Tensor): (batch_size, num_heads, seq_length, head_dim)\n",
    "            values (torch.Tensor): (batch_size, num_heads, seq_length, head_dim)\n",
    "            mask (torch.Tensor, optional): (batch_size, num_heads, seq_length, seq_length)\n",
    "\n",
    "        Returns: (batch_size, num_heads, seq_length, head_dim)\n",
    "        \"\"\"\n",
    "        attention_scores_logits = torch.matmul(\n",
    "            queries, keys.transpose(-2, -1)\n",
    "        ) / math.sqrt(self.d_k)  # Shape: (batch_size, num_heads, seq_length, seq_length)\n",
    "\n",
    "        if mask is not None:\n",
    "            attention_scores_logits = attention_scores_logits.masked_fill(mask == 0, -float('inf'))\n",
    "\n",
    "        attention_probs = torch.softmax(attention_scores_logits, dim=-1)\n",
    "\n",
    "        output = torch.matmul(attention_probs, values)  # Shape: (batch_size, num_heads, seq_length, head_dim)\n",
    "\n",
    "        return output"
   ]
  },
  {
   "cell_type": "markdown",
   "metadata": {},
   "source": [
    "Note : I adapted my ScaledDotProductAttention to receive num_heads inputs so that we can compute the heads in parallel.  \n",
    "Alternative implementation (slower) could instead receive (batch, seq_len, head_dim) and use `torch.bmm` instead of `torch.matmul`."
   ]
  },
  {
   "cell_type": "markdown",
   "metadata": {},
   "source": [
    "## Smoke Test"
   ]
  },
  {
   "cell_type": "markdown",
   "metadata": {},
   "source": [
    "### No Mask"
   ]
  },
  {
   "cell_type": "code",
   "execution_count": 230,
   "metadata": {},
   "outputs": [
    {
     "name": "stdout",
     "output_type": "stream",
     "text": [
      "queries.shape: torch.Size([2, 8, 9, 64])\n",
      "keys.shape: torch.Size([2, 8, 9, 64])\n",
      "values.shape: torch.Size([2, 8, 9, 64])\n",
      "Scaled dot product attention shape : torch.Size([2, 8, 9, 64])\n"
     ]
    }
   ],
   "source": [
    "scaled_dot_product_attention = ScaledDotProductAttention(d_k=d_k)\n",
    "\n",
    "queries = torch.randn(batch_size, num_heads, max_seq_length, d_k)\n",
    "\n",
    "keys = torch.randn(batch_size, num_heads, max_seq_length, d_k)\n",
    "\n",
    "values = torch.randn(batch_size, num_heads, max_seq_length, d_v)\n",
    "\n",
    "print(f\"queries.shape: {queries.shape}\")\n",
    "print(f\"keys.shape: {keys.shape}\")\n",
    "print(f\"values.shape: {values.shape}\")\n",
    "\n",
    "print(f\"Scaled dot product attention shape : {scaled_dot_product_attention(queries, keys, values).shape}\")"
   ]
  },
  {
   "cell_type": "markdown",
   "metadata": {},
   "source": [
    "### With Mask"
   ]
  },
  {
   "cell_type": "code",
   "execution_count": 231,
   "metadata": {},
   "outputs": [
    {
     "name": "stdout",
     "output_type": "stream",
     "text": [
      "Mask for testing purposes (batch size = 2):\n",
      "Shape: torch.Size([2, 8, 9, 9])\n",
      "tensor([[[[ True, False, False,  ..., False, False, False],\n",
      "          [ True,  True, False,  ..., False, False, False],\n",
      "          [ True,  True,  True,  ..., False, False, False],\n",
      "          ...,\n",
      "          [ True,  True,  True,  ...,  True, False, False],\n",
      "          [ True,  True,  True,  ...,  True,  True, False],\n",
      "          [ True,  True,  True,  ...,  True,  True,  True]],\n",
      "\n",
      "         [[ True, False, False,  ..., False, False, False],\n",
      "          [ True,  True, False,  ..., False, False, False],\n",
      "          [ True,  True,  True,  ..., False, False, False],\n",
      "          ...,\n",
      "          [ True,  True,  True,  ...,  True, False, False],\n",
      "          [ True,  True,  True,  ...,  True,  True, False],\n",
      "          [ True,  True,  True,  ...,  True,  True,  True]],\n",
      "\n",
      "         [[ True, False, False,  ..., False, False, False],\n",
      "          [ True,  True, False,  ..., False, False, False],\n",
      "          [ True,  True,  True,  ..., False, False, False],\n",
      "          ...,\n",
      "          [ True,  True,  True,  ...,  True, False, False],\n",
      "          [ True,  True,  True,  ...,  True,  True, False],\n",
      "          [ True,  True,  True,  ...,  True,  True,  True]],\n",
      "\n",
      "         ...,\n",
      "\n",
      "         [[ True, False, False,  ..., False, False, False],\n",
      "          [ True,  True, False,  ..., False, False, False],\n",
      "          [ True,  True,  True,  ..., False, False, False],\n",
      "          ...,\n",
      "          [ True,  True,  True,  ...,  True, False, False],\n",
      "          [ True,  True,  True,  ...,  True,  True, False],\n",
      "          [ True,  True,  True,  ...,  True,  True,  True]],\n",
      "\n",
      "         [[ True, False, False,  ..., False, False, False],\n",
      "          [ True,  True, False,  ..., False, False, False],\n",
      "          [ True,  True,  True,  ..., False, False, False],\n",
      "          ...,\n",
      "          [ True,  True,  True,  ...,  True, False, False],\n",
      "          [ True,  True,  True,  ...,  True,  True, False],\n",
      "          [ True,  True,  True,  ...,  True,  True,  True]],\n",
      "\n",
      "         [[ True, False, False,  ..., False, False, False],\n",
      "          [ True,  True, False,  ..., False, False, False],\n",
      "          [ True,  True,  True,  ..., False, False, False],\n",
      "          ...,\n",
      "          [ True,  True,  True,  ...,  True, False, False],\n",
      "          [ True,  True,  True,  ...,  True,  True, False],\n",
      "          [ True,  True,  True,  ...,  True,  True,  True]]],\n",
      "\n",
      "\n",
      "        [[[ True, False, False,  ..., False, False, False],\n",
      "          [ True,  True, False,  ..., False, False, False],\n",
      "          [ True,  True,  True,  ..., False, False, False],\n",
      "          ...,\n",
      "          [ True,  True,  True,  ...,  True, False, False],\n",
      "          [ True,  True,  True,  ...,  True,  True, False],\n",
      "          [ True,  True,  True,  ...,  True,  True,  True]],\n",
      "\n",
      "         [[ True, False, False,  ..., False, False, False],\n",
      "          [ True,  True, False,  ..., False, False, False],\n",
      "          [ True,  True,  True,  ..., False, False, False],\n",
      "          ...,\n",
      "          [ True,  True,  True,  ...,  True, False, False],\n",
      "          [ True,  True,  True,  ...,  True,  True, False],\n",
      "          [ True,  True,  True,  ...,  True,  True,  True]],\n",
      "\n",
      "         [[ True, False, False,  ..., False, False, False],\n",
      "          [ True,  True, False,  ..., False, False, False],\n",
      "          [ True,  True,  True,  ..., False, False, False],\n",
      "          ...,\n",
      "          [ True,  True,  True,  ...,  True, False, False],\n",
      "          [ True,  True,  True,  ...,  True,  True, False],\n",
      "          [ True,  True,  True,  ...,  True,  True,  True]],\n",
      "\n",
      "         ...,\n",
      "\n",
      "         [[ True, False, False,  ..., False, False, False],\n",
      "          [ True,  True, False,  ..., False, False, False],\n",
      "          [ True,  True,  True,  ..., False, False, False],\n",
      "          ...,\n",
      "          [ True,  True,  True,  ...,  True, False, False],\n",
      "          [ True,  True,  True,  ...,  True,  True, False],\n",
      "          [ True,  True,  True,  ...,  True,  True,  True]],\n",
      "\n",
      "         [[ True, False, False,  ..., False, False, False],\n",
      "          [ True,  True, False,  ..., False, False, False],\n",
      "          [ True,  True,  True,  ..., False, False, False],\n",
      "          ...,\n",
      "          [ True,  True,  True,  ...,  True, False, False],\n",
      "          [ True,  True,  True,  ...,  True,  True, False],\n",
      "          [ True,  True,  True,  ...,  True,  True,  True]],\n",
      "\n",
      "         [[ True, False, False,  ..., False, False, False],\n",
      "          [ True,  True, False,  ..., False, False, False],\n",
      "          [ True,  True,  True,  ..., False, False, False],\n",
      "          ...,\n",
      "          [ True,  True,  True,  ...,  True, False, False],\n",
      "          [ True,  True,  True,  ...,  True,  True, False],\n",
      "          [ True,  True,  True,  ...,  True,  True,  True]]]])\n",
      "MASKED scaled dot product attention shape : torch.Size([2, 8, 9, 64])\n"
     ]
    }
   ],
   "source": [
    "mask = torch.tril(torch.ones((max_seq_length, max_seq_length), dtype=torch.bool))\n",
    "mask = mask.unsqueeze(0).unsqueeze(1).expand(batch_size, num_heads, max_seq_length, max_seq_length)\n",
    "\n",
    "print(f\"Mask for testing purposes (batch size = {batch_size}):\")\n",
    "print(f\"Shape: {mask.shape}\")\n",
    "print(mask)\n",
    "\n",
    "print(f\"MASKED scaled dot product attention shape : {scaled_dot_product_attention(queries, keys, values, mask).shape}\")"
   ]
  },
  {
   "cell_type": "markdown",
   "metadata": {},
   "source": [
    "# Multi-Head Attention"
   ]
  },
  {
   "cell_type": "markdown",
   "metadata": {},
   "source": [
    "<img src=\"img/multi_head_attention_layers.png\" height=\"500px\"/> \n",
    "<br/>\n",
    "<img src=\"img/multi_head_attention.png\" height=\"300px\"/>  \n",
    "<br/>\n",
    "<img src=\"img/multi_head_attention_math.png\" height=\"100px\"/>"
   ]
  },
  {
   "cell_type": "code",
   "execution_count": 232,
   "metadata": {},
   "outputs": [],
   "source": [
    "class MultiHeadAttention(nn.Module):\n",
    "    def __init__(self, d_model: int, num_heads: int):\n",
    "        super().__init__()\n",
    "\n",
    "        assert d_model % num_heads == 0, \"d_model must be divisible by num_heads\"\n",
    "\n",
    "        self.d_model = d_model\n",
    "        self.num_heads = num_heads\n",
    "        self.head_dim = d_model // num_heads # Note that head_dim = d_k = d_v just like in the original paper.\n",
    "\n",
    "        self.queries_projections = nn.Linear(in_features=d_model, out_features=d_model, bias=False)\n",
    "        self.keys_projections = nn.Linear(in_features=d_model, out_features=d_model, bias=False)\n",
    "        self.values_projections = nn.Linear(in_features=d_model, out_features=d_model, bias=False)\n",
    "\n",
    "        self.attention = ScaledDotProductAttention(d_k=self.head_dim)\n",
    "\n",
    "        self.output_projections = nn.Linear(in_features=num_heads*self.head_dim, out_features=d_model, bias=False)\n",
    "    \n",
    "    def forward(self, queries: torch.Tensor, keys: torch.Tensor, values: torch.Tensor, mask: torch.Tensor) -> torch.Tensor:\n",
    "        batch_size, seq_len, d_model_query = queries.shape\n",
    "        batch_size, seq_len, d_model_key = keys.shape\n",
    "        batch_size, seq_len, d_model_value = values.shape\n",
    "\n",
    "        assert self.d_model == d_model_query == d_model_key == d_model_value, f\"Mismatch in expected d_model!\"\n",
    "\n",
    "        q = self.queries_projections(queries)  # shape: (batch_size, seq_len, num_heads * head_dim)\n",
    "        k = self.keys_projections(keys)      # shape: (batch_size, seq_len, num_heads * head_dim)\n",
    "        v = self.values_projections(values)  # shape: (batch_size, seq_len, num_heads * head_dim)\n",
    "\n",
    "        q = q.reshape(batch_size, seq_len, self.num_heads, self.head_dim).permute(0, 2, 1, 3)  # shape: (batch_size, num_heads, seq_len, head_dim)\n",
    "        k = k.reshape(batch_size, seq_len, self.num_heads, self.head_dim).permute(0, 2, 1, 3)    # shape: (batch_size, num_heads, seq_len, head_dim)\n",
    "        v = v.reshape(batch_size, seq_len, self.num_heads, self.head_dim).permute(0, 2, 1, 3)  # shape: (batch_size, num_heads, seq_len, head_dim)\n",
    "\n",
    "        heads = self.attention(queries=q, keys=k, values=v, mask=mask)\n",
    "\n",
    "        concatenated_heads = heads.permute(0, 2, 1, 3).reshape(batch_size, seq_len, -1)\n",
    "\n",
    "        output = self.output_projections(concatenated_heads)\n",
    "\n",
    "        return output"
   ]
  },
  {
   "cell_type": "markdown",
   "metadata": {},
   "source": [
    "## Smoke Test"
   ]
  },
  {
   "cell_type": "markdown",
   "metadata": {},
   "source": [
    "### No Mask"
   ]
  },
  {
   "cell_type": "code",
   "execution_count": 233,
   "metadata": {},
   "outputs": [
    {
     "name": "stdout",
     "output_type": "stream",
     "text": [
      "Input shape: torch.Size([2, 9, 512])\n",
      "MultiHeadAttention output shape: torch.Size([2, 9, 512])\n"
     ]
    }
   ],
   "source": [
    "mha = MultiHeadAttention(d_model=d_model, num_heads=num_heads)\n",
    "\n",
    "x = torch.randn((batch_size, max_seq_length, d_model))\n",
    "\n",
    "print(f\"Input shape: {x.shape}\")\n",
    "print(f\"MultiHeadAttention output shape: {mha(queries=x, keys=x, values=x, mask=None).shape}\")"
   ]
  },
  {
   "cell_type": "markdown",
   "metadata": {},
   "source": [
    "### With Mask"
   ]
  },
  {
   "cell_type": "code",
   "execution_count": 234,
   "metadata": {},
   "outputs": [
    {
     "name": "stdout",
     "output_type": "stream",
     "text": [
      "Input shape: torch.Size([2, 9, 512])\n",
      "MASKED MultiHeadAttention output shape: torch.Size([2, 9, 512])\n"
     ]
    }
   ],
   "source": [
    "print(f\"Input shape: {x.shape}\")\n",
    "print(f\"MASKED MultiHeadAttention output shape: {mha(queries=x, keys=x, values=x, mask=mask).shape}\")"
   ]
  },
  {
   "cell_type": "markdown",
   "metadata": {},
   "source": [
    "# Feed Forward"
   ]
  },
  {
   "cell_type": "markdown",
   "metadata": {},
   "source": [
    "<img src=\"img/feed_forward_layers.png\" height=\"500px\"/>  \n",
    "<br/>\n",
    "<img src=\"img/feed_forward.png\" height=\"250px\"/>"
   ]
  },
  {
   "cell_type": "code",
   "execution_count": 235,
   "metadata": {},
   "outputs": [],
   "source": [
    "class PositionWiseFeedForwardNetwork(nn.Module):\n",
    "    def __init__(self, d_model: int, d_ff: int):\n",
    "        super().__init__()\n",
    "        self.fc1 = nn.Linear(in_features=d_model, out_features=d_ff, bias=True)\n",
    "        self.fc2 = nn.Linear(in_features=d_ff, out_features=d_model, bias=True)\n",
    "    \n",
    "    def forward(self, x: torch.Tensor) -> torch.Tensor:\n",
    "        x = torch.relu(self.fc1(x))\n",
    "        x = self.fc2(x)\n",
    "        return x"
   ]
  },
  {
   "cell_type": "markdown",
   "metadata": {},
   "source": [
    "## Smoke Test"
   ]
  },
  {
   "cell_type": "code",
   "execution_count": 236,
   "metadata": {},
   "outputs": [
    {
     "name": "stdout",
     "output_type": "stream",
     "text": [
      "x.shape: torch.Size([2, 9, 512])\n",
      "position wise feed forward network output shape: torch.Size([2, 9, 512])\n"
     ]
    }
   ],
   "source": [
    "feed_forward = PositionWiseFeedForwardNetwork(d_model=d_model, d_ff=d_ff)\n",
    "\n",
    "x = torch.randn(batch_size, max_seq_length, d_model)\n",
    "\n",
    "print(f\"x.shape: {x.shape}\")\n",
    "print(f\"position wise feed forward network output shape: {feed_forward(x).shape}\")"
   ]
  },
  {
   "cell_type": "markdown",
   "metadata": {},
   "source": [
    "# Encoder Layer"
   ]
  },
  {
   "cell_type": "markdown",
   "metadata": {},
   "source": [
    "<img src=\"img/encoder_layer.png\" height=\"500px\">"
   ]
  },
  {
   "cell_type": "markdown",
   "metadata": {},
   "source": [
    "<img src=\"img/encoder.png\" height=\"150px\"/>"
   ]
  },
  {
   "cell_type": "code",
   "execution_count": 237,
   "metadata": {},
   "outputs": [],
   "source": [
    "class TransformerEncoderLayer(nn.Module):\n",
    "    def __init__(self, d_model: int, num_heads: int, d_ff: int):\n",
    "        super().__init__()\n",
    "        self.multi_head_attention = MultiHeadAttention(d_model=d_model, num_heads=num_heads)\n",
    "        self.layer_norm_1 = nn.LayerNorm(normalized_shape=d_model)\n",
    "        self.feed_forward = PositionWiseFeedForwardNetwork(d_model=d_model, d_ff=d_ff)\n",
    "        self.layer_norm_2 = nn.LayerNorm(normalized_shape=d_model)\n",
    "    \n",
    "    def forward(self, x: torch.Tensor) -> torch.Tensor:\n",
    "        x = self.layer_norm_1(x + self.multi_head_attention(queries=x, keys=x, values=x, mask=None))\n",
    "        x = self.layer_norm_2(x + self.feed_forward(x))\n",
    "        return x"
   ]
  },
  {
   "cell_type": "markdown",
   "metadata": {},
   "source": [
    "## Smoke Test"
   ]
  },
  {
   "cell_type": "code",
   "execution_count": 238,
   "metadata": {},
   "outputs": [
    {
     "name": "stdout",
     "output_type": "stream",
     "text": [
      "Input X: torch.Size([2, 9, 512])\n",
      "Transformer Encoder Layer output : torch.Size([2, 9, 512])\n"
     ]
    }
   ],
   "source": [
    "encoder_layer = TransformerEncoderLayer(d_model=d_model, num_heads=num_heads, d_ff=d_ff)\n",
    "\n",
    "x = torch.randn(batch_size, max_seq_length, d_model)\n",
    "\n",
    "print(f\"Input X: {x.shape}\")\n",
    "print(F\"Transformer Encoder Layer output : {encoder_layer(x).shape}\")"
   ]
  },
  {
   "cell_type": "markdown",
   "metadata": {},
   "source": [
    "# Encoder"
   ]
  },
  {
   "cell_type": "markdown",
   "metadata": {},
   "source": [
    "<img src=\"img/encoder_layers.png\" height=\"500px\"/>  "
   ]
  },
  {
   "cell_type": "code",
   "execution_count": 239,
   "metadata": {},
   "outputs": [],
   "source": [
    "class TransformerEncoder(nn.Module):\n",
    "    def __init__(self, num_layers: int, num_heads: int, d_model: int, d_ff: int):\n",
    "        super().__init__()\n",
    "        self.layers = nn.Sequential(*[TransformerEncoderLayer(d_model=d_model, num_heads=num_heads, d_ff=d_ff) for _ in range(num_layers)])\n",
    "    \n",
    "    def forward(self, x: torch.Tensor) -> torch.Tensor:\n",
    "        x = self.layers(x)\n",
    "        return x"
   ]
  },
  {
   "cell_type": "markdown",
   "metadata": {},
   "source": [
    "## Smoke Test"
   ]
  },
  {
   "cell_type": "code",
   "execution_count": 240,
   "metadata": {},
   "outputs": [
    {
     "name": "stdout",
     "output_type": "stream",
     "text": [
      "Input X: torch.Size([2, 9, 512])\n",
      "Transformer encoder output shape: torch.Size([2, 9, 512])\n"
     ]
    }
   ],
   "source": [
    "transformer_encoder = TransformerEncoder(num_layers=num_encoder_layers, num_heads=num_heads, d_model=d_model, d_ff=d_ff)\n",
    "x = torch.randn(batch_size, max_seq_length, d_model)\n",
    "print(f\"Input X: {x.shape}\")\n",
    "print(f\"Transformer encoder output shape: {transformer_encoder(x).shape}\")"
   ]
  },
  {
   "cell_type": "markdown",
   "metadata": {},
   "source": [
    "# Decoder Layer"
   ]
  },
  {
   "cell_type": "markdown",
   "metadata": {},
   "source": [
    "<img src=\"img/decoder_layer.png\" height=\"500px\"/>  "
   ]
  },
  {
   "cell_type": "code",
   "execution_count": 241,
   "metadata": {},
   "outputs": [],
   "source": [
    "class TransformerDecoderLayer(nn.Module):\n",
    "    def __init__(self, d_model: int, num_heads: int):\n",
    "        super().__init__()\n",
    "        self.masked_multi_head_attention = MultiHeadAttention(d_model=d_model, num_heads=num_heads)\n",
    "        self.layer_norm_1 = nn.LayerNorm(normalized_shape=d_model)\n",
    "\n",
    "        self.multi_head_cross_attention = MultiHeadAttention(d_model=d_model, num_heads=num_heads)\n",
    "        self.layer_norm_2 = nn.LayerNorm(normalized_shape=d_model)\n",
    "\n",
    "        self.feed_forward = PositionWiseFeedForwardNetwork(d_model=d_model, d_ff=d_ff)\n",
    "        self.layer_norm_3 = nn.LayerNorm(normalized_shape=d_model)\n",
    "    \n",
    "    def forward(self, x: torch.Tensor, encoder_output: torch.Tensor) -> torch.Tensor:\n",
    "        batch_size, seq_len, _ = x.shape\n",
    "\n",
    "        mask = torch.tril(torch.ones((seq_len, seq_len), dtype=torch.bool))\n",
    "        mask = mask.unsqueeze(0).unsqueeze(1).expand(batch_size, num_heads, max_seq_length, max_seq_length)\n",
    "        x = self.layer_norm_1(x + self.masked_multi_head_attention(queries=x, keys=x, values=x, mask=mask))\n",
    "\n",
    "        x = self.layer_norm_2(x + self.multi_head_cross_attention(queries=x, keys=encoder_output, values=encoder_output, mask=None))\n",
    "\n",
    "        x = self.layer_norm_3(x + self.feed_forward(x))\n",
    "\n",
    "        return x"
   ]
  },
  {
   "cell_type": "markdown",
   "metadata": {},
   "source": [
    "## Smoke Test"
   ]
  },
  {
   "cell_type": "code",
   "execution_count": 242,
   "metadata": {},
   "outputs": [
    {
     "name": "stdout",
     "output_type": "stream",
     "text": [
      "x shape: torch.Size([2, 9, 512])\n",
      "encoder output shape: torch.Size([2, 9, 512])\n",
      "decoder layer output shape: torch.Size([2, 9, 512])\n"
     ]
    }
   ],
   "source": [
    "decoder_layer = TransformerDecoderLayer(d_model=d_model, num_heads=num_heads)\n",
    "\n",
    "x = torch.randn((batch_size, max_seq_length, d_model))\n",
    "encoder_output = torch.randn((batch_size, max_seq_length, d_model))\n",
    "\n",
    "print(f\"x shape: {x.shape}\")\n",
    "print(f\"encoder output shape: {encoder_output.shape}\")\n",
    "print(f\"decoder layer output shape: {decoder_layer(x=x, encoder_output=encoder_output).shape}\")"
   ]
  },
  {
   "cell_type": "markdown",
   "metadata": {},
   "source": [
    "# Decoder"
   ]
  },
  {
   "cell_type": "markdown",
   "metadata": {},
   "source": [
    "<img src=\"img/decoder_layers.png\" height=\"500px\"/>"
   ]
  },
  {
   "cell_type": "code",
   "execution_count": 243,
   "metadata": {},
   "outputs": [],
   "source": [
    "class TransformerDecoder(nn.Module):\n",
    "    def __init__(self, num_layers: int, d_model: int, num_heads: int):\n",
    "        super().__init__()\n",
    "        self.layers = nn.ModuleList([TransformerDecoderLayer(d_model=d_model, num_heads=num_heads) for _ in range(num_layers)])\n",
    "\n",
    "    def forward(self, x: torch.Tensor, encoder_output: torch.Tensor) -> torch.Tensor:\n",
    "        for layer in self.layers:\n",
    "            x = layer(x=x, encoder_output=encoder_output)\n",
    "        return x"
   ]
  },
  {
   "cell_type": "markdown",
   "metadata": {},
   "source": [
    "## Smoke Test"
   ]
  },
  {
   "cell_type": "code",
   "execution_count": 244,
   "metadata": {},
   "outputs": [
    {
     "name": "stdout",
     "output_type": "stream",
     "text": [
      "x shape: torch.Size([2, 9, 512])\n",
      "encoder output shape: torch.Size([2, 9, 512])\n",
      "decoder output shape: torch.Size([2, 9, 512])\n"
     ]
    }
   ],
   "source": [
    "decoder = TransformerDecoder(num_layers=num_decoder_layers, d_model=d_model, num_heads=num_heads)\n",
    "\n",
    "x = torch.randn((batch_size, max_seq_length, d_model))\n",
    "encoder_output = torch.randn((batch_size, max_seq_length, d_model))\n",
    "\n",
    "print(f\"x shape: {x.shape}\")\n",
    "print(f\"encoder output shape: {encoder_output.shape}\")\n",
    "print(f\"decoder output shape: {decoder(x=x, encoder_output=encoder_output).shape}\")"
   ]
  },
  {
   "cell_type": "markdown",
   "metadata": {},
   "source": [
    "# Transformer (Putting everything together!)"
   ]
  },
  {
   "cell_type": "markdown",
   "metadata": {},
   "source": [
    "<img src=\"img/transfomer_end_to_end.png\" height=\"500px\"/>"
   ]
  },
  {
   "cell_type": "code",
   "execution_count": 251,
   "metadata": {},
   "outputs": [],
   "source": [
    "class Transformer(nn.Module):\n",
    "    def __init__(self, d_model: int, d_ff: int, max_seq_length: int, num_encoder_layers: int, num_encoder_heads: int, num_decoder_layers: int, num_decoder_heads: int):\n",
    "        super().__init__()\n",
    "        self.input_output_embedder = TextEmbedder(d_model=d_model)\n",
    "        self.positional_encoding = PositionalEncoding(d_model=d_model, max_seq_length=max_seq_length)\n",
    "\n",
    "        self.encoder = TransformerEncoder(num_layers=num_encoder_layers, num_heads=num_encoder_heads, d_model=d_model, d_ff=d_ff)\n",
    "\n",
    "        shared_embedding_weights = self.input_output_embedder.get_embedding_weights().T\n",
    "        self.output_projection = nn.Linear(in_features=d_model, out_features=self.input_output_embedder.vocab_size, bias=False)\n",
    "        self.output_projection.weight = nn.Parameter(shared_embedding_weights)\n",
    "\n",
    "        self.decoder = TransformerDecoder(num_layers=num_decoder_layers, d_model=d_model, num_heads=num_decoder_heads)\n",
    "    \n",
    "    def forward(self, x: list[str], target_sequence: list[str]) -> torch.Tensor:\n",
    "        input_embeddings = self.input_output_embedder(x)\n",
    "        input_embeddings = self.positional_encoding(input_embeddings)\n",
    "\n",
    "        encoder_output = self.encoder(input_embeddings)\n",
    "\n",
    "        decoder_input = self.input_output_embedder([\"<SOS>\"])\n",
    "        decoder_input = self.positional_encoding(decoder_input)\n",
    "\n",
    "        decoded_logits = []\n",
    "\n",
    "        for i in range(len(target_sequence)):\n",
    "            decoder_output = self.decoder(x=decoder_input, encoder_output=encoder_output)\n",
    "            \n",
    "            vocab_logits = self.output_projection(decoder_output)\n",
    "\n",
    "            decoded_logits.append(vocab_logits)\n",
    "\n",
    "            predicted_token = vocab_logits.argmax(dim=-1)\n",
    "\n",
    "            print(f\"predicted_token: {predicted_token}\")\n",
    "\n",
    "            predicted_token_embed = self.input_output_embedder([self.input_output_embedder.tokenizer.decode(predicted_token.squeeze())])\n",
    "            predicted_token_embed = self.positional_encoding(predicted_token_embed)\n",
    "\n",
    "            decoder_input = predicted_token_embed\n",
    "\n",
    "        decoded_logits = torch.cat(decoded_logits, dim=1) # Shape: (batch_size, seq_length, vocab_size)\n",
    "\n",
    "        return decoded_logits"
   ]
  },
  {
   "cell_type": "markdown",
   "metadata": {},
   "source": [
    "## Smoke Test"
   ]
  },
  {
   "cell_type": "code",
   "execution_count": 252,
   "metadata": {},
   "outputs": [
    {
     "ename": "RuntimeError",
     "evalue": "The size of tensor a (6) must match the size of tensor b (9) at non-singleton dimension 1",
     "output_type": "error",
     "traceback": [
      "\u001b[0;31m---------------------------------------------------------------------------\u001b[0m",
      "\u001b[0;31mRuntimeError\u001b[0m                              Traceback (most recent call last)",
      "Cell \u001b[0;32mIn[252], line 12\u001b[0m\n\u001b[1;32m      1\u001b[0m transformer_model \u001b[38;5;241m=\u001b[39m Transformer(\n\u001b[1;32m      2\u001b[0m     d_model\u001b[38;5;241m=\u001b[39md_model,\n\u001b[1;32m      3\u001b[0m     d_ff\u001b[38;5;241m=\u001b[39md_ff,\n\u001b[0;32m   (...)\u001b[0m\n\u001b[1;32m      8\u001b[0m     num_decoder_heads\u001b[38;5;241m=\u001b[39mnum_heads\n\u001b[1;32m      9\u001b[0m )\n\u001b[0;32m---> 12\u001b[0m output_logits \u001b[38;5;241m=\u001b[39m \u001b[43mtransformer_model\u001b[49m\u001b[43m(\u001b[49m\u001b[43mtexts\u001b[49m\u001b[43m,\u001b[49m\u001b[43m \u001b[49m\u001b[43mtexts\u001b[49m\u001b[43m)\u001b[49m\n\u001b[1;32m     14\u001b[0m \u001b[38;5;28mprint\u001b[39m(\u001b[38;5;124mf\u001b[39m\u001b[38;5;124m\"\u001b[39m\u001b[38;5;124mOutput logits shape: \u001b[39m\u001b[38;5;132;01m{\u001b[39;00moutput_logits\u001b[38;5;241m.\u001b[39mshape\u001b[38;5;132;01m}\u001b[39;00m\u001b[38;5;124m\"\u001b[39m)\n",
      "File \u001b[0;32m~/micromamba/envs/transformer/lib/python3.11/site-packages/torch/nn/modules/module.py:1553\u001b[0m, in \u001b[0;36mModule._wrapped_call_impl\u001b[0;34m(self, *args, **kwargs)\u001b[0m\n\u001b[1;32m   1551\u001b[0m     \u001b[38;5;28;01mreturn\u001b[39;00m \u001b[38;5;28mself\u001b[39m\u001b[38;5;241m.\u001b[39m_compiled_call_impl(\u001b[38;5;241m*\u001b[39margs, \u001b[38;5;241m*\u001b[39m\u001b[38;5;241m*\u001b[39mkwargs)  \u001b[38;5;66;03m# type: ignore[misc]\u001b[39;00m\n\u001b[1;32m   1552\u001b[0m \u001b[38;5;28;01melse\u001b[39;00m:\n\u001b[0;32m-> 1553\u001b[0m     \u001b[38;5;28;01mreturn\u001b[39;00m \u001b[38;5;28;43mself\u001b[39;49m\u001b[38;5;241;43m.\u001b[39;49m\u001b[43m_call_impl\u001b[49m\u001b[43m(\u001b[49m\u001b[38;5;241;43m*\u001b[39;49m\u001b[43margs\u001b[49m\u001b[43m,\u001b[49m\u001b[43m \u001b[49m\u001b[38;5;241;43m*\u001b[39;49m\u001b[38;5;241;43m*\u001b[39;49m\u001b[43mkwargs\u001b[49m\u001b[43m)\u001b[49m\n",
      "File \u001b[0;32m~/micromamba/envs/transformer/lib/python3.11/site-packages/torch/nn/modules/module.py:1562\u001b[0m, in \u001b[0;36mModule._call_impl\u001b[0;34m(self, *args, **kwargs)\u001b[0m\n\u001b[1;32m   1557\u001b[0m \u001b[38;5;66;03m# If we don't have any hooks, we want to skip the rest of the logic in\u001b[39;00m\n\u001b[1;32m   1558\u001b[0m \u001b[38;5;66;03m# this function, and just call forward.\u001b[39;00m\n\u001b[1;32m   1559\u001b[0m \u001b[38;5;28;01mif\u001b[39;00m \u001b[38;5;129;01mnot\u001b[39;00m (\u001b[38;5;28mself\u001b[39m\u001b[38;5;241m.\u001b[39m_backward_hooks \u001b[38;5;129;01mor\u001b[39;00m \u001b[38;5;28mself\u001b[39m\u001b[38;5;241m.\u001b[39m_backward_pre_hooks \u001b[38;5;129;01mor\u001b[39;00m \u001b[38;5;28mself\u001b[39m\u001b[38;5;241m.\u001b[39m_forward_hooks \u001b[38;5;129;01mor\u001b[39;00m \u001b[38;5;28mself\u001b[39m\u001b[38;5;241m.\u001b[39m_forward_pre_hooks\n\u001b[1;32m   1560\u001b[0m         \u001b[38;5;129;01mor\u001b[39;00m _global_backward_pre_hooks \u001b[38;5;129;01mor\u001b[39;00m _global_backward_hooks\n\u001b[1;32m   1561\u001b[0m         \u001b[38;5;129;01mor\u001b[39;00m _global_forward_hooks \u001b[38;5;129;01mor\u001b[39;00m _global_forward_pre_hooks):\n\u001b[0;32m-> 1562\u001b[0m     \u001b[38;5;28;01mreturn\u001b[39;00m \u001b[43mforward_call\u001b[49m\u001b[43m(\u001b[49m\u001b[38;5;241;43m*\u001b[39;49m\u001b[43margs\u001b[49m\u001b[43m,\u001b[49m\u001b[43m \u001b[49m\u001b[38;5;241;43m*\u001b[39;49m\u001b[38;5;241;43m*\u001b[39;49m\u001b[43mkwargs\u001b[49m\u001b[43m)\u001b[49m\n\u001b[1;32m   1564\u001b[0m \u001b[38;5;28;01mtry\u001b[39;00m:\n\u001b[1;32m   1565\u001b[0m     result \u001b[38;5;241m=\u001b[39m \u001b[38;5;28;01mNone\u001b[39;00m\n",
      "Cell \u001b[0;32mIn[251], line 22\u001b[0m, in \u001b[0;36mTransformer.forward\u001b[0;34m(self, x, target_sequence)\u001b[0m\n\u001b[1;32m     19\u001b[0m encoder_output \u001b[38;5;241m=\u001b[39m \u001b[38;5;28mself\u001b[39m\u001b[38;5;241m.\u001b[39mencoder(input_embeddings)\n\u001b[1;32m     21\u001b[0m decoder_input \u001b[38;5;241m=\u001b[39m \u001b[38;5;28mself\u001b[39m\u001b[38;5;241m.\u001b[39minput_output_embedder([\u001b[38;5;124m\"\u001b[39m\u001b[38;5;124m<SOS>\u001b[39m\u001b[38;5;124m\"\u001b[39m])\n\u001b[0;32m---> 22\u001b[0m decoder_input \u001b[38;5;241m=\u001b[39m \u001b[38;5;28;43mself\u001b[39;49m\u001b[38;5;241;43m.\u001b[39;49m\u001b[43mpositional_encoding\u001b[49m\u001b[43m(\u001b[49m\u001b[43mdecoder_input\u001b[49m\u001b[43m)\u001b[49m\n\u001b[1;32m     24\u001b[0m decoded_logits \u001b[38;5;241m=\u001b[39m []\n\u001b[1;32m     26\u001b[0m \u001b[38;5;28;01mfor\u001b[39;00m i \u001b[38;5;129;01min\u001b[39;00m \u001b[38;5;28mrange\u001b[39m(\u001b[38;5;28mlen\u001b[39m(target_sequence)):\n",
      "File \u001b[0;32m~/micromamba/envs/transformer/lib/python3.11/site-packages/torch/nn/modules/module.py:1553\u001b[0m, in \u001b[0;36mModule._wrapped_call_impl\u001b[0;34m(self, *args, **kwargs)\u001b[0m\n\u001b[1;32m   1551\u001b[0m     \u001b[38;5;28;01mreturn\u001b[39;00m \u001b[38;5;28mself\u001b[39m\u001b[38;5;241m.\u001b[39m_compiled_call_impl(\u001b[38;5;241m*\u001b[39margs, \u001b[38;5;241m*\u001b[39m\u001b[38;5;241m*\u001b[39mkwargs)  \u001b[38;5;66;03m# type: ignore[misc]\u001b[39;00m\n\u001b[1;32m   1552\u001b[0m \u001b[38;5;28;01melse\u001b[39;00m:\n\u001b[0;32m-> 1553\u001b[0m     \u001b[38;5;28;01mreturn\u001b[39;00m \u001b[38;5;28;43mself\u001b[39;49m\u001b[38;5;241;43m.\u001b[39;49m\u001b[43m_call_impl\u001b[49m\u001b[43m(\u001b[49m\u001b[38;5;241;43m*\u001b[39;49m\u001b[43margs\u001b[49m\u001b[43m,\u001b[49m\u001b[43m \u001b[49m\u001b[38;5;241;43m*\u001b[39;49m\u001b[38;5;241;43m*\u001b[39;49m\u001b[43mkwargs\u001b[49m\u001b[43m)\u001b[49m\n",
      "File \u001b[0;32m~/micromamba/envs/transformer/lib/python3.11/site-packages/torch/nn/modules/module.py:1562\u001b[0m, in \u001b[0;36mModule._call_impl\u001b[0;34m(self, *args, **kwargs)\u001b[0m\n\u001b[1;32m   1557\u001b[0m \u001b[38;5;66;03m# If we don't have any hooks, we want to skip the rest of the logic in\u001b[39;00m\n\u001b[1;32m   1558\u001b[0m \u001b[38;5;66;03m# this function, and just call forward.\u001b[39;00m\n\u001b[1;32m   1559\u001b[0m \u001b[38;5;28;01mif\u001b[39;00m \u001b[38;5;129;01mnot\u001b[39;00m (\u001b[38;5;28mself\u001b[39m\u001b[38;5;241m.\u001b[39m_backward_hooks \u001b[38;5;129;01mor\u001b[39;00m \u001b[38;5;28mself\u001b[39m\u001b[38;5;241m.\u001b[39m_backward_pre_hooks \u001b[38;5;129;01mor\u001b[39;00m \u001b[38;5;28mself\u001b[39m\u001b[38;5;241m.\u001b[39m_forward_hooks \u001b[38;5;129;01mor\u001b[39;00m \u001b[38;5;28mself\u001b[39m\u001b[38;5;241m.\u001b[39m_forward_pre_hooks\n\u001b[1;32m   1560\u001b[0m         \u001b[38;5;129;01mor\u001b[39;00m _global_backward_pre_hooks \u001b[38;5;129;01mor\u001b[39;00m _global_backward_hooks\n\u001b[1;32m   1561\u001b[0m         \u001b[38;5;129;01mor\u001b[39;00m _global_forward_hooks \u001b[38;5;129;01mor\u001b[39;00m _global_forward_pre_hooks):\n\u001b[0;32m-> 1562\u001b[0m     \u001b[38;5;28;01mreturn\u001b[39;00m \u001b[43mforward_call\u001b[49m\u001b[43m(\u001b[49m\u001b[38;5;241;43m*\u001b[39;49m\u001b[43margs\u001b[49m\u001b[43m,\u001b[49m\u001b[43m \u001b[49m\u001b[38;5;241;43m*\u001b[39;49m\u001b[38;5;241;43m*\u001b[39;49m\u001b[43mkwargs\u001b[49m\u001b[43m)\u001b[49m\n\u001b[1;32m   1564\u001b[0m \u001b[38;5;28;01mtry\u001b[39;00m:\n\u001b[1;32m   1565\u001b[0m     result \u001b[38;5;241m=\u001b[39m \u001b[38;5;28;01mNone\u001b[39;00m\n",
      "Cell \u001b[0;32mIn[248], line 26\u001b[0m, in \u001b[0;36mPositionalEncoding.forward\u001b[0;34m(self, x)\u001b[0m\n\u001b[1;32m     24\u001b[0m \u001b[38;5;28;01mdef\u001b[39;00m \u001b[38;5;21mforward\u001b[39m(\u001b[38;5;28mself\u001b[39m, x: torch\u001b[38;5;241m.\u001b[39mTensor) \u001b[38;5;241m-\u001b[39m\u001b[38;5;241m>\u001b[39m torch\u001b[38;5;241m.\u001b[39mTensor:\n\u001b[1;32m     25\u001b[0m     \u001b[38;5;28;01massert\u001b[39;00m x\u001b[38;5;241m.\u001b[39mshape[\u001b[38;5;241m1\u001b[39m] \u001b[38;5;241m<\u001b[39m\u001b[38;5;241m=\u001b[39m \u001b[38;5;28mself\u001b[39m\u001b[38;5;241m.\u001b[39mmax_seq_length, \u001b[38;5;124mf\u001b[39m\u001b[38;5;124m\"\u001b[39m\u001b[38;5;124mMax sequence length is \u001b[39m\u001b[38;5;132;01m{\u001b[39;00m\u001b[38;5;28mself\u001b[39m\u001b[38;5;241m.\u001b[39mmax_seq_length\u001b[38;5;132;01m}\u001b[39;00m\u001b[38;5;124m but input has sequence length of \u001b[39m\u001b[38;5;132;01m{\u001b[39;00mx\u001b[38;5;241m.\u001b[39mshape[\u001b[38;5;241m1\u001b[39m]\u001b[38;5;132;01m}\u001b[39;00m\u001b[38;5;124m!\u001b[39m\u001b[38;5;124m\"\u001b[39m\n\u001b[0;32m---> 26\u001b[0m     \u001b[38;5;28;01mreturn\u001b[39;00m \u001b[43mx\u001b[49m\u001b[43m \u001b[49m\u001b[38;5;241;43m+\u001b[39;49m\u001b[43m \u001b[49m\u001b[38;5;28;43mself\u001b[39;49m\u001b[38;5;241;43m.\u001b[39;49m\u001b[43mpositional_encoding\u001b[49m\n",
      "\u001b[0;31mRuntimeError\u001b[0m: The size of tensor a (6) must match the size of tensor b (9) at non-singleton dimension 1"
     ]
    }
   ],
   "source": [
    "\n",
    "transformer_model = Transformer(\n",
    "    d_model=d_model,\n",
    "    d_ff=d_ff,\n",
    "    max_seq_length=max_seq_length,\n",
    "    num_encoder_layers=num_encoder_layers,\n",
    "    num_encoder_heads=num_heads,\n",
    "    num_decoder_layers=num_decoder_layers,\n",
    "    num_decoder_heads=num_heads\n",
    ")\n",
    "\n",
    "\n",
    "output_logits = transformer_model(texts, texts)\n",
    "\n",
    "print(f\"Output logits shape: {output_logits.shape}\")\n"
   ]
  }
 ],
 "metadata": {
  "kernelspec": {
   "display_name": "Python 3",
   "language": "python",
   "name": "python3"
  },
  "language_info": {
   "codemirror_mode": {
    "name": "ipython",
    "version": 3
   },
   "file_extension": ".py",
   "mimetype": "text/x-python",
   "name": "python",
   "nbconvert_exporter": "python",
   "pygments_lexer": "ipython3",
   "version": "3.11.10"
  },
  "orig_nbformat": 4
 },
 "nbformat": 4,
 "nbformat_minor": 2
}
