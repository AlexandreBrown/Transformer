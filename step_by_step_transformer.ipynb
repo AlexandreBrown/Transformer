{
 "cells": [
  {
   "cell_type": "code",
   "execution_count": 89,
   "metadata": {},
   "outputs": [],
   "source": [
    "import torch.nn as nn\n",
    "import torch\n",
    "import math\n",
    "import matplotlib.pyplot as plt\n",
    "from transformers import AutoTokenizer\n",
    "from tqdm.notebook import tqdm"
   ]
  },
  {
   "cell_type": "code",
   "execution_count": 90,
   "metadata": {},
   "outputs": [],
   "source": [
    "d_model = 512\n",
    "d_k = 64\n",
    "d_v = d_k\n",
    "batch_size = 2\n",
    "src_seqs = [\"Hello world!\", \"Hi, how are you today?\"]\n",
    "src_max_seq_len = 12\n",
    "target_seqs = [\"Bonjour tout le monde!\", \"Bonjour, comment allez-vous aujourd'hui?\"]\n",
    "target_max_seq_len = 16\n",
    "num_heads = 8\n",
    "num_encoder_heads = num_heads\n",
    "num_decoder_heads = num_heads\n",
    "d_ff = 2048\n",
    "num_encoder_layers = 6\n",
    "num_decoder_layers = 6\n",
    "\n",
    "device = torch.device(\"cuda\" if torch.cuda.is_available() else \"cpu\")"
   ]
  },
  {
   "cell_type": "markdown",
   "metadata": {},
   "source": [
    "# Input/Output Embedding Layers"
   ]
  },
  {
   "cell_type": "markdown",
   "metadata": {},
   "source": [
    "<img src=\"img/embedding_layers.png\" height=\"500px\"/>"
   ]
  },
  {
   "cell_type": "markdown",
   "metadata": {},
   "source": [
    "<img src=\"img/embedding_softmax.png\" height=\"150px\">"
   ]
  },
  {
   "cell_type": "code",
   "execution_count": 91,
   "metadata": {},
   "outputs": [],
   "source": [
    "class TextEmbedder(nn.Module):\n",
    "    def __init__(self, d_model: int, device: torch.device, verbose: bool = False):\n",
    "        super().__init__()\n",
    "        self.tokenizer = AutoTokenizer.from_pretrained(\"t5-small\")\n",
    "        self.vocab_size = self.tokenizer.vocab_size\n",
    "        self.embedding_dim = d_model\n",
    "        self.embeddings_map = nn.Embedding(num_embeddings=self.vocab_size, embedding_dim=self.embedding_dim).to(device)\n",
    "        self.verbose = verbose\n",
    "        self.device = device\n",
    "\n",
    "    def forward(self, x: list[str] | list[list[int]]) -> torch.Tensor:\n",
    "        if isinstance(x[0], str):\n",
    "            tokens_ids = self.get_token_ids(x)\n",
    "        elif isinstance(x[0], list):\n",
    "            tokens_ids = torch.tensor(x).to(self.device)\n",
    "        elif isinstance(x[0], torch.Tensor):\n",
    "            tokens_ids = x\n",
    "        else:\n",
    "            raise ValueError(\"Input must be a list of strings or integers.\")\n",
    "\n",
    "        embeddings = self.embeddings_map(tokens_ids) * math.sqrt(self.embedding_dim)\n",
    "\n",
    "        if self.verbose:\n",
    "            print(f\"tokens_ids shape: {tokens_ids.shape}\\ntoken_ids: {tokens_ids}\")\n",
    "            print(f\"embeddings shape : {embeddings.shape}\")\n",
    "        \n",
    "        return embeddings\n",
    "\n",
    "    def get_token_ids(self, x: list[str]) -> torch.Tensor:\n",
    "        tokens = self.tokenizer(x, padding=True, truncation=True, return_tensors=\"pt\").to(self.device)\n",
    "        return tokens[\"input_ids\"]\n",
    "\n",
    "    def get_tokens(self, token_ids: torch.Tensor | list[int]) -> list[str]:\n",
    "        return self.tokenizer.batch_decode(token_ids)\n",
    "\n",
    "    def get_embedding_weights(self) -> torch.Tensor:\n",
    "        return self.embeddings_map.weight\n",
    "\n",
    "    def get_sos_token_id(self) -> int:\n",
    "        return self.tokenizer.pad_token_id\n",
    "    \n",
    "    def get_eos_token_id(self) -> int:\n",
    "        return self.tokenizer.eos_token_id"
   ]
  },
  {
   "cell_type": "markdown",
   "metadata": {},
   "source": [
    "## Smoke Test"
   ]
  },
  {
   "cell_type": "code",
   "execution_count": 92,
   "metadata": {},
   "outputs": [
    {
     "name": "stdout",
     "output_type": "stream",
     "text": [
      "Src embeddings from text:\n",
      "tokens_ids shape: torch.Size([2, 8])\n",
      "token_ids: tensor([[8774,  296,   55,    1,    0,    0,    0,    0],\n",
      "        [2018,    6,  149,   33,   25,  469,   58,    1]], device='cuda:0')\n",
      "embeddings shape : torch.Size([2, 8, 512])\n",
      "Src embeddings from token ids:\n",
      "tokens_ids shape: torch.Size([2, 8])\n",
      "token_ids: tensor([[8774,  296,   55,    1,    0,    0,    0,    0],\n",
      "        [2018,    6,  149,   33,   25,  469,   58,    1]], device='cuda:0')\n",
      "embeddings shape : torch.Size([2, 8, 512])\n",
      "\n",
      "Target embeddings:\n",
      "tokens_ids shape: torch.Size([2, 12])\n",
      "token_ids: tensor([[21845,   870,    90,  2921,    55,     1,     0,     0,     0,     0,\n",
      "             0,     0],\n",
      "        [21845,     6,  1670,     3, 23122,    18,  3249,  7082,    31,  3464,\n",
      "            58,     1]], device='cuda:0')\n",
      "embeddings shape : torch.Size([2, 12, 512])\n"
     ]
    }
   ],
   "source": [
    "text_embedder = TextEmbedder(d_model=d_model, device=device, verbose=True)\n",
    "print(\"Src embeddings from text:\")\n",
    "src_embeddings = text_embedder(src_seqs)\n",
    "print(\"Src embeddings from token ids:\")\n",
    "token_ids = text_embedder.tokenizer.batch_encode_plus(src_seqs, padding=True)['input_ids']\n",
    "src_embeddings_2 = text_embedder(token_ids)\n",
    "print(\"\")\n",
    "\n",
    "print(\"Target embeddings:\")\n",
    "target_embeddings = text_embedder(target_seqs)"
   ]
  },
  {
   "cell_type": "markdown",
   "metadata": {},
   "source": [
    "# Positional Encoding"
   ]
  },
  {
   "cell_type": "markdown",
   "metadata": {},
   "source": [
    "<img src=\"img/positional_encoding_layers.png\" height=\"500px\"/>"
   ]
  },
  {
   "cell_type": "markdown",
   "metadata": {},
   "source": [
    "<img src=\"img/positional_encoding.png\" height=\"150px\">"
   ]
  },
  {
   "cell_type": "code",
   "execution_count": 93,
   "metadata": {},
   "outputs": [],
   "source": [
    "class PositionalEncoding(nn.Module):\n",
    "    def __init__(self, d_model: int, max_seq_length: int):\n",
    "        super().__init__()\n",
    "        self.d_model = d_model\n",
    "        self.max_seq_length = max_seq_length\n",
    "        self.register_buffer('positional_encoding', self.compute_sin_cos_pos_encoding_matrix())\n",
    "    \n",
    "    def compute_sin_cos_pos_encoding_matrix(self):\n",
    "        self.sequence_positions = torch.arange(0, self.max_seq_length).unsqueeze(1)\n",
    "        self.even_embed_indexes = torch.arange(0, self.d_model, 2)\n",
    "        self.odd_embed_indexes = torch.arange(1, self.d_model, 2)\n",
    "\n",
    "        positional_encoding_matrix = torch.zeros((1, self.max_seq_length, self.d_model))\n",
    "\n",
    "        division_term = 10_000**(self.even_embed_indexes/self.d_model)\n",
    "\n",
    "        scaled_sequence_position = self.sequence_positions / division_term\n",
    "\n",
    "        positional_encoding_matrix[0, :, self.even_embed_indexes] = torch.sin(scaled_sequence_position)\n",
    "        positional_encoding_matrix[0, :, self.odd_embed_indexes] = torch.cos(scaled_sequence_position)\n",
    "\n",
    "        return positional_encoding_matrix\n",
    "\n",
    "    def forward(self, x: torch.Tensor) -> torch.Tensor:\n",
    "        _, seq_len, _ = x.shape\n",
    "        return x + self.positional_encoding[:, :seq_len, :]"
   ]
  },
  {
   "cell_type": "markdown",
   "metadata": {},
   "source": [
    "## Smoke Test"
   ]
  },
  {
   "cell_type": "code",
   "execution_count": 94,
   "metadata": {},
   "outputs": [
    {
     "name": "stdout",
     "output_type": "stream",
     "text": [
      "Source Embedding (token 0, embed pos -1) before positional encoding : -20.54925155639648437500\n",
      "Source Embedding (token 0, embed pos -1) after positional encoding  : -19.54925155639648437500\n",
      "src_position_aware_embeddings shape: torch.Size([2, 8, 512])\n",
      "Target Embedding (token 0, embed pos -1) before positional encoding : -0.11282244324684143066\n",
      "Target Embedding (token 0, embed pos -1) after positional encoding  : 0.88717758655548095703\n",
      "target_position_aware_embeddings shape: torch.Size([2, 12, 512])\n"
     ]
    }
   ],
   "source": [
    "pe = PositionalEncoding(d_model=d_model, max_seq_length=max(src_max_seq_len, target_max_seq_len)).to(device)\n",
    "\n",
    "print(f\"Source Embedding (token 0, embed pos -1) before positional encoding : {src_embeddings[0, 0, -1]:.20f}\")\n",
    "src_position_aware_embeddings = pe(src_embeddings)\n",
    "print(f\"Source Embedding (token 0, embed pos -1) after positional encoding  : {src_position_aware_embeddings[0, 0, -1]:.20f}\")\n",
    "print(f\"src_position_aware_embeddings shape: {src_position_aware_embeddings.shape}\")\n",
    "\n",
    "print(f\"Target Embedding (token 0, embed pos -1) before positional encoding : {target_embeddings[0, 0, -1]:.20f}\")\n",
    "target_position_aware_embeddings = pe(target_embeddings)\n",
    "print(f\"Target Embedding (token 0, embed pos -1) after positional encoding  : {target_position_aware_embeddings[0, 0, -1]:.20f}\")\n",
    "print(f\"target_position_aware_embeddings shape: {target_position_aware_embeddings.shape}\")"
   ]
  },
  {
   "cell_type": "markdown",
   "metadata": {},
   "source": [
    "## Positional Encoding Visualization"
   ]
  },
  {
   "cell_type": "code",
   "execution_count": 95,
   "metadata": {},
   "outputs": [
    {
     "data": {
      "image/png": "[encoded data removed]",
      "text/plain": [
       "<Figure size 1000x800 with 4 Axes>"
      ]
     },
     "metadata": {},
     "output_type": "display_data"
    }
   ],
   "source": [
    "num_dimensions_to_plot = 4\n",
    "\n",
    "fig, axs = plt.subplots(num_dimensions_to_plot, 1, figsize=(10, 8), sharex=True)\n",
    "\n",
    "source_sequence = pe.sequence_positions.squeeze()\n",
    "\n",
    "for idx, i in enumerate(range(0, num_dimensions_to_plot)):  \n",
    "    y_sin = pe.positional_encoding[0, :, i * 2].cpu()\n",
    "    y_cos = pe.positional_encoding[0, :, i * 2 + 1].cpu()\n",
    "    \n",
    "    axs[idx].plot(source_sequence, y_sin, marker='o', linewidth=1, color='b')\n",
    "    axs[idx].plot(source_sequence, y_cos, marker='o', linewidth=1, color='r')\n",
    "    \n",
    "    axs[idx].set_ylabel(f\"Embed Pos {i * 2} and {i * 2 + 1}\")\n",
    "    axs[idx].grid(True)\n",
    "\n",
    "    if idx == 0:\n",
    "        axs[idx].legend(['Sine', 'Cosine'], loc='upper right')\n",
    "\n",
    "axs[-1].set_xlabel('Sequence Position')\n",
    "\n",
    "fig.suptitle('Sine and Cosine Components of Positional Encoding for Different Embedding Dimensions')\n",
    "\n",
    "plt.tight_layout()\n",
    "\n",
    "plt.show()"
   ]
  },
  {
   "cell_type": "markdown",
   "metadata": {},
   "source": [
    "# Scaled Dot-Product Attention"
   ]
  },
  {
   "cell_type": "markdown",
   "metadata": {},
   "source": [
    "<img src=\"img/scaled_dot_product_attention.png\" height=\"300px\">"
   ]
  },
  {
   "cell_type": "markdown",
   "metadata": {},
   "source": [
    "<img src=\"img/scaled_dot_product_attention_math.png\" height=\"100px\"/>"
   ]
  },
  {
   "cell_type": "code",
   "execution_count": 96,
   "metadata": {},
   "outputs": [],
   "source": [
    "class ScaledDotProductAttention(nn.Module):\n",
    "    def __init__(self, d_k: int):\n",
    "        super().__init__()\n",
    "        self.d_k = d_k\n",
    "\n",
    "    def forward(\n",
    "        self,\n",
    "        queries: torch.Tensor,\n",
    "        keys: torch.Tensor,\n",
    "        values: torch.Tensor,\n",
    "        mask: torch.Tensor = None\n",
    "    ) -> torch.Tensor:\n",
    "        \"\"\"\n",
    "        Args:\n",
    "            queries (torch.Tensor): (batch_size, num_heads, seq_length, head_dim)\n",
    "            keys (torch.Tensor): (batch_size, num_heads, seq_length, head_dim)\n",
    "            values (torch.Tensor): (batch_size, num_heads, seq_length, head_dim)\n",
    "            mask (torch.Tensor, optional): (batch_size, num_heads, seq_length, seq_length)\n",
    "\n",
    "        Returns: (batch_size, num_heads, seq_length, head_dim)\n",
    "        \"\"\"\n",
    "        attention_scores_logits = torch.matmul(\n",
    "            queries, keys.transpose(-2, -1)\n",
    "        ) / math.sqrt(self.d_k)  # Shape: (batch_size, num_heads, seq_length, seq_length)\n",
    "\n",
    "        if mask is not None:\n",
    "            attention_scores_logits = attention_scores_logits.masked_fill(mask == 0, -float('inf'))\n",
    "\n",
    "        attention_probs = torch.softmax(attention_scores_logits, dim=-1)\n",
    "\n",
    "        output = torch.matmul(attention_probs, values)  # Shape: (batch_size, num_heads, seq_length, head_dim)\n",
    "\n",
    "        return output"
   ]
  },
  {
   "cell_type": "markdown",
   "metadata": {},
   "source": [
    "Note : I adapted my ScaledDotProductAttention to receive num_heads inputs so that we can compute the heads in parallel.  \n",
    "Alternative implementation (slower) could instead receive (batch, seq_len, head_dim) and use `torch.bmm` instead of `torch.matmul`."
   ]
  },
  {
   "cell_type": "markdown",
   "metadata": {},
   "source": [
    "## Smoke Test"
   ]
  },
  {
   "cell_type": "markdown",
   "metadata": {},
   "source": [
    "### No Mask"
   ]
  },
  {
   "cell_type": "code",
   "execution_count": 97,
   "metadata": {},
   "outputs": [
    {
     "name": "stdout",
     "output_type": "stream",
     "text": [
      "queries.shape: torch.Size([2, 8, 12, 64])\n",
      "keys.shape: torch.Size([2, 8, 12, 64])\n",
      "values.shape: torch.Size([2, 8, 12, 64])\n",
      "Scaled dot product attention shape : torch.Size([2, 8, 12, 64])\n"
     ]
    }
   ],
   "source": [
    "scaled_dot_product_attention = ScaledDotProductAttention(d_k=d_k)\n",
    "\n",
    "queries = torch.randn(batch_size, num_heads, src_max_seq_len, d_k)\n",
    "\n",
    "keys = torch.randn(batch_size, num_heads, src_max_seq_len, d_k)\n",
    "\n",
    "values = torch.randn(batch_size, num_heads, src_max_seq_len, d_v)\n",
    "\n",
    "print(f\"queries.shape: {queries.shape}\")\n",
    "print(f\"keys.shape: {keys.shape}\")\n",
    "print(f\"values.shape: {values.shape}\")\n",
    "\n",
    "print(f\"Scaled dot product attention shape : {scaled_dot_product_attention(queries, keys, values).shape}\")"
   ]
  },
  {
   "cell_type": "markdown",
   "metadata": {},
   "source": [
    "### With Mask"
   ]
  },
  {
   "cell_type": "code",
   "execution_count": 98,
   "metadata": {},
   "outputs": [
    {
     "name": "stdout",
     "output_type": "stream",
     "text": [
      "Mask for testing purposes (batch size = 2):\n",
      "Shape: torch.Size([2, 8, 12, 12])\n",
      "tensor([[[[ True, False, False,  ..., False, False, False],\n",
      "          [ True,  True, False,  ..., False, False, False],\n",
      "          [ True,  True,  True,  ..., False, False, False],\n",
      "          ...,\n",
      "          [ True,  True,  True,  ...,  True, False, False],\n",
      "          [ True,  True,  True,  ...,  True,  True, False],\n",
      "          [ True,  True,  True,  ...,  True,  True,  True]],\n",
      "\n",
      "         [[ True, False, False,  ..., False, False, False],\n",
      "          [ True,  True, False,  ..., False, False, False],\n",
      "          [ True,  True,  True,  ..., False, False, False],\n",
      "          ...,\n",
      "          [ True,  True,  True,  ...,  True, False, False],\n",
      "          [ True,  True,  True,  ...,  True,  True, False],\n",
      "          [ True,  True,  True,  ...,  True,  True,  True]],\n",
      "\n",
      "         [[ True, False, False,  ..., False, False, False],\n",
      "          [ True,  True, False,  ..., False, False, False],\n",
      "          [ True,  True,  True,  ..., False, False, False],\n",
      "          ...,\n",
      "          [ True,  True,  True,  ...,  True, False, False],\n",
      "          [ True,  True,  True,  ...,  True,  True, False],\n",
      "          [ True,  True,  True,  ...,  True,  True,  True]],\n",
      "\n",
      "         ...,\n",
      "\n",
      "         [[ True, False, False,  ..., False, False, False],\n",
      "          [ True,  True, False,  ..., False, False, False],\n",
      "          [ True,  True,  True,  ..., False, False, False],\n",
      "          ...,\n",
      "          [ True,  True,  True,  ...,  True, False, False],\n",
      "          [ True,  True,  True,  ...,  True,  True, False],\n",
      "          [ True,  True,  True,  ...,  True,  True,  True]],\n",
      "\n",
      "         [[ True, False, False,  ..., False, False, False],\n",
      "          [ True,  True, False,  ..., False, False, False],\n",
      "          [ True,  True,  True,  ..., False, False, False],\n",
      "          ...,\n",
      "          [ True,  True,  True,  ...,  True, False, False],\n",
      "          [ True,  True,  True,  ...,  True,  True, False],\n",
      "          [ True,  True,  True,  ...,  True,  True,  True]],\n",
      "\n",
      "         [[ True, False, False,  ..., False, False, False],\n",
      "          [ True,  True, False,  ..., False, False, False],\n",
      "          [ True,  True,  True,  ..., False, False, False],\n",
      "          ...,\n",
      "          [ True,  True,  True,  ...,  True, False, False],\n",
      "          [ True,  True,  True,  ...,  True,  True, False],\n",
      "          [ True,  True,  True,  ...,  True,  True,  True]]],\n",
      "\n",
      "\n",
      "        [[[ True, False, False,  ..., False, False, False],\n",
      "          [ True,  True, False,  ..., False, False, False],\n",
      "          [ True,  True,  True,  ..., False, False, False],\n",
      "          ...,\n",
      "          [ True,  True,  True,  ...,  True, False, False],\n",
      "          [ True,  True,  True,  ...,  True,  True, False],\n",
      "          [ True,  True,  True,  ...,  True,  True,  True]],\n",
      "\n",
      "         [[ True, False, False,  ..., False, False, False],\n",
      "          [ True,  True, False,  ..., False, False, False],\n",
      "          [ True,  True,  True,  ..., False, False, False],\n",
      "          ...,\n",
      "          [ True,  True,  True,  ...,  True, False, False],\n",
      "          [ True,  True,  True,  ...,  True,  True, False],\n",
      "          [ True,  True,  True,  ...,  True,  True,  True]],\n",
      "\n",
      "         [[ True, False, False,  ..., False, False, False],\n",
      "          [ True,  True, False,  ..., False, False, False],\n",
      "          [ True,  True,  True,  ..., False, False, False],\n",
      "          ...,\n",
      "          [ True,  True,  True,  ...,  True, False, False],\n",
      "          [ True,  True,  True,  ...,  True,  True, False],\n",
      "          [ True,  True,  True,  ...,  True,  True,  True]],\n",
      "\n",
      "         ...,\n",
      "\n",
      "         [[ True, False, False,  ..., False, False, False],\n",
      "          [ True,  True, False,  ..., False, False, False],\n",
      "          [ True,  True,  True,  ..., False, False, False],\n",
      "          ...,\n",
      "          [ True,  True,  True,  ...,  True, False, False],\n",
      "          [ True,  True,  True,  ...,  True,  True, False],\n",
      "          [ True,  True,  True,  ...,  True,  True,  True]],\n",
      "\n",
      "         [[ True, False, False,  ..., False, False, False],\n",
      "          [ True,  True, False,  ..., False, False, False],\n",
      "          [ True,  True,  True,  ..., False, False, False],\n",
      "          ...,\n",
      "          [ True,  True,  True,  ...,  True, False, False],\n",
      "          [ True,  True,  True,  ...,  True,  True, False],\n",
      "          [ True,  True,  True,  ...,  True,  True,  True]],\n",
      "\n",
      "         [[ True, False, False,  ..., False, False, False],\n",
      "          [ True,  True, False,  ..., False, False, False],\n",
      "          [ True,  True,  True,  ..., False, False, False],\n",
      "          ...,\n",
      "          [ True,  True,  True,  ...,  True, False, False],\n",
      "          [ True,  True,  True,  ...,  True,  True, False],\n",
      "          [ True,  True,  True,  ...,  True,  True,  True]]]])\n",
      "MASKED scaled dot product attention shape : torch.Size([2, 8, 12, 64])\n"
     ]
    }
   ],
   "source": [
    "mask = torch.tril(torch.ones((src_max_seq_len, src_max_seq_len), dtype=torch.bool))\n",
    "mask = mask.unsqueeze(0).unsqueeze(1).expand(batch_size, num_heads, src_max_seq_len, src_max_seq_len)\n",
    "\n",
    "print(f\"Mask for testing purposes (batch size = {batch_size}):\")\n",
    "print(f\"Shape: {mask.shape}\")\n",
    "print(mask)\n",
    "\n",
    "print(f\"MASKED scaled dot product attention shape : {scaled_dot_product_attention(queries, keys, values, mask).shape}\")"
   ]
  },
  {
   "cell_type": "markdown",
   "metadata": {},
   "source": [
    "# Multi-Head Attention"
   ]
  },
  {
   "cell_type": "markdown",
   "metadata": {},
   "source": [
    "<img src=\"img/multi_head_attention_layers.png\" height=\"500px\"/> \n",
    "<br/>\n",
    "<img src=\"img/multi_head_attention.png\" height=\"300px\"/>  \n",
    "<br/>\n",
    "<img src=\"img/multi_head_attention_math.png\" height=\"100px\"/>"
   ]
  },
  {
   "cell_type": "code",
   "execution_count": 99,
   "metadata": {},
   "outputs": [],
   "source": [
    "class MultiHeadAttention(nn.Module):\n",
    "    def __init__(self, d_model: int, num_heads: int):\n",
    "        super().__init__()\n",
    "\n",
    "        assert d_model % num_heads == 0, \"d_model must be divisible by num_heads\"\n",
    "\n",
    "        self.d_model = d_model\n",
    "        self.num_heads = num_heads\n",
    "        self.head_dim = d_model // num_heads # Note that head_dim = d_k = d_v just like in the original paper.\n",
    "\n",
    "        self.queries_projections = nn.Linear(in_features=d_model, out_features=d_model, bias=False)\n",
    "        self.keys_projections = nn.Linear(in_features=d_model, out_features=d_model, bias=False)\n",
    "        self.values_projections = nn.Linear(in_features=d_model, out_features=d_model, bias=False)\n",
    "\n",
    "        self.attention = ScaledDotProductAttention(d_k=self.head_dim)\n",
    "\n",
    "        self.output_projections = nn.Linear(in_features=num_heads*self.head_dim, out_features=d_model, bias=False)\n",
    "    \n",
    "    def forward(self, queries: torch.Tensor, keys: torch.Tensor, values: torch.Tensor, mask: torch.Tensor) -> torch.Tensor:\n",
    "        batch_size, q_seq_len, d_model_query = queries.shape\n",
    "        batch_size, k_seq_len, d_model_key = keys.shape\n",
    "        batch_size, v_seq_len, d_model_value = values.shape\n",
    "\n",
    "        assert self.d_model == d_model_query == d_model_key == d_model_value, f\"Mismatch in expected d_model!\"\n",
    "\n",
    "        q = self.queries_projections(queries)  # shape: (batch_size, seq_len, num_heads * head_dim)\n",
    "        k = self.keys_projections(keys)      # shape: (batch_size, seq_len, num_heads * head_dim)\n",
    "        v = self.values_projections(values)  # shape: (batch_size, seq_len, num_heads * head_dim)\n",
    "\n",
    "        q = q.reshape(batch_size, q_seq_len, self.num_heads, self.head_dim).permute(0, 2, 1, 3)  # shape: (batch_size, num_heads, seq_len, head_dim)\n",
    "        k = k.reshape(batch_size, k_seq_len, self.num_heads, self.head_dim).permute(0, 2, 1, 3)    # shape: (batch_size, num_heads, seq_len, head_dim)\n",
    "        v = v.reshape(batch_size, v_seq_len, self.num_heads, self.head_dim).permute(0, 2, 1, 3)  # shape: (batch_size, num_heads, seq_len, head_dim)\n",
    "\n",
    "        heads = self.attention(queries=q, keys=k, values=v, mask=mask)\n",
    "\n",
    "        concatenated_heads = heads.permute(0, 2, 1, 3).reshape(batch_size, -1, self.d_model)\n",
    "\n",
    "        output = self.output_projections(concatenated_heads)\n",
    "\n",
    "        return output"
   ]
  },
  {
   "cell_type": "markdown",
   "metadata": {},
   "source": [
    "## Smoke Test"
   ]
  },
  {
   "cell_type": "markdown",
   "metadata": {},
   "source": [
    "### No Mask"
   ]
  },
  {
   "cell_type": "code",
   "execution_count": 100,
   "metadata": {},
   "outputs": [
    {
     "name": "stdout",
     "output_type": "stream",
     "text": [
      "X shape: torch.Size([2, 12, 512])\n",
      "MultiHeadAttention output shape: torch.Size([2, 12, 512])\n"
     ]
    }
   ],
   "source": [
    "mha = MultiHeadAttention(d_model=d_model, num_heads=num_heads)\n",
    "\n",
    "source_sequence = torch.randn((batch_size, src_max_seq_len, d_model))\n",
    "\n",
    "print(f\"X shape: {source_sequence.shape}\")\n",
    "print(f\"MultiHeadAttention output shape: {mha(queries=source_sequence, keys=source_sequence, values=source_sequence, mask=None).shape}\")"
   ]
  },
  {
   "cell_type": "markdown",
   "metadata": {},
   "source": [
    "### With Mask"
   ]
  },
  {
   "cell_type": "code",
   "execution_count": 101,
   "metadata": {},
   "outputs": [
    {
     "name": "stdout",
     "output_type": "stream",
     "text": [
      "Input shape: torch.Size([2, 12, 512])\n",
      "MASKED MultiHeadAttention output shape: torch.Size([2, 12, 512])\n"
     ]
    }
   ],
   "source": [
    "print(f\"Input shape: {source_sequence.shape}\")\n",
    "print(f\"MASKED MultiHeadAttention output shape: {mha(queries=source_sequence, keys=source_sequence, values=source_sequence, mask=mask).shape}\")"
   ]
  },
  {
   "cell_type": "markdown",
   "metadata": {},
   "source": [
    "# Feed Forward"
   ]
  },
  {
   "cell_type": "markdown",
   "metadata": {},
   "source": [
    "<img src=\"img/feed_forward_layers.png\" height=\"500px\"/>  \n",
    "<br/>\n",
    "<img src=\"img/feed_forward.png\" height=\"250px\"/>"
   ]
  },
  {
   "cell_type": "code",
   "execution_count": 102,
   "metadata": {},
   "outputs": [],
   "source": [
    "class PositionWiseFeedForwardNetwork(nn.Module):\n",
    "    def __init__(self, d_model: int, d_ff: int):\n",
    "        super().__init__()\n",
    "        self.fc1 = nn.Linear(in_features=d_model, out_features=d_ff, bias=True)\n",
    "        self.fc2 = nn.Linear(in_features=d_ff, out_features=d_model, bias=True)\n",
    "    \n",
    "    def forward(self, x: torch.Tensor) -> torch.Tensor:\n",
    "        x = torch.relu(self.fc1(x))\n",
    "        x = self.fc2(x)\n",
    "        return x"
   ]
  },
  {
   "cell_type": "markdown",
   "metadata": {},
   "source": [
    "## Smoke Test"
   ]
  },
  {
   "cell_type": "code",
   "execution_count": 103,
   "metadata": {},
   "outputs": [
    {
     "name": "stdout",
     "output_type": "stream",
     "text": [
      "source_sequence.shape: torch.Size([2, 12, 512])\n",
      "position wise feed forward network output shape: torch.Size([2, 12, 512])\n"
     ]
    }
   ],
   "source": [
    "feed_forward = PositionWiseFeedForwardNetwork(d_model=d_model, d_ff=d_ff)\n",
    "\n",
    "source_sequence = torch.randn(batch_size, src_max_seq_len, d_model)\n",
    "\n",
    "print(f\"source_sequence.shape: {source_sequence.shape}\")\n",
    "print(f\"position wise feed forward network output shape: {feed_forward(source_sequence).shape}\")"
   ]
  },
  {
   "cell_type": "markdown",
   "metadata": {},
   "source": [
    "# Encoder Layer"
   ]
  },
  {
   "cell_type": "markdown",
   "metadata": {},
   "source": [
    "<img src=\"img/encoder_layer.png\" height=\"500px\">"
   ]
  },
  {
   "cell_type": "markdown",
   "metadata": {},
   "source": [
    "<img src=\"img/encoder.png\" height=\"150px\"/>"
   ]
  },
  {
   "cell_type": "code",
   "execution_count": 104,
   "metadata": {},
   "outputs": [],
   "source": [
    "class TransformerEncoderLayer(nn.Module):\n",
    "    def __init__(self, d_model: int, num_heads: int, d_ff: int):\n",
    "        super().__init__()\n",
    "        self.multi_head_attention = MultiHeadAttention(d_model=d_model, num_heads=num_heads)\n",
    "        self.layer_norm_1 = nn.LayerNorm(normalized_shape=d_model)\n",
    "        self.feed_forward = PositionWiseFeedForwardNetwork(d_model=d_model, d_ff=d_ff)\n",
    "        self.layer_norm_2 = nn.LayerNorm(normalized_shape=d_model)\n",
    "    \n",
    "    def forward(self, x: torch.Tensor) -> torch.Tensor:\n",
    "        x = self.layer_norm_1(x + self.multi_head_attention(queries=x, keys=x, values=x, mask=None))\n",
    "        x = self.layer_norm_2(x + self.feed_forward(x))\n",
    "        return x"
   ]
  },
  {
   "cell_type": "markdown",
   "metadata": {},
   "source": [
    "## Smoke Test"
   ]
  },
  {
   "cell_type": "code",
   "execution_count": 105,
   "metadata": {},
   "outputs": [
    {
     "name": "stdout",
     "output_type": "stream",
     "text": [
      "Input X: torch.Size([2, 12, 512])\n",
      "Transformer Encoder Layer output : torch.Size([2, 12, 512])\n"
     ]
    }
   ],
   "source": [
    "encoder_layer = TransformerEncoderLayer(d_model=d_model, num_heads=num_heads, d_ff=d_ff)\n",
    "\n",
    "source_sequence = torch.randn(batch_size, src_max_seq_len, d_model)\n",
    "\n",
    "print(f\"Input X: {source_sequence.shape}\")\n",
    "print(F\"Transformer Encoder Layer output : {encoder_layer(source_sequence).shape}\")"
   ]
  },
  {
   "cell_type": "markdown",
   "metadata": {},
   "source": [
    "# Encoder"
   ]
  },
  {
   "cell_type": "markdown",
   "metadata": {},
   "source": [
    "<img src=\"img/encoder_layers.png\" height=\"500px\"/>  "
   ]
  },
  {
   "cell_type": "code",
   "execution_count": 106,
   "metadata": {},
   "outputs": [],
   "source": [
    "class TransformerEncoder(nn.Module):\n",
    "    def __init__(self, num_layers: int, num_heads: int, d_model: int, d_ff: int):\n",
    "        super().__init__()\n",
    "        self.layers = nn.Sequential(*[TransformerEncoderLayer(d_model=d_model, num_heads=num_heads, d_ff=d_ff) for _ in range(num_layers)])\n",
    "    \n",
    "    def forward(self, x: torch.Tensor) -> torch.Tensor:\n",
    "        x = self.layers(x)\n",
    "        return x"
   ]
  },
  {
   "cell_type": "markdown",
   "metadata": {},
   "source": [
    "## Smoke Test"
   ]
  },
  {
   "cell_type": "code",
   "execution_count": 107,
   "metadata": {},
   "outputs": [
    {
     "name": "stdout",
     "output_type": "stream",
     "text": [
      "Input X: torch.Size([2, 12, 512])\n",
      "Transformer encoder output shape: torch.Size([2, 12, 512])\n"
     ]
    }
   ],
   "source": [
    "transformer_encoder = TransformerEncoder(num_layers=num_encoder_layers, num_heads=num_heads, d_model=d_model, d_ff=d_ff)\n",
    "source_sequence = torch.randn(batch_size, src_max_seq_len, d_model)\n",
    "print(f\"Input X: {source_sequence.shape}\")\n",
    "print(f\"Transformer encoder output shape: {transformer_encoder(source_sequence).shape}\")"
   ]
  },
  {
   "cell_type": "markdown",
   "metadata": {},
   "source": [
    "# Decoder Layer"
   ]
  },
  {
   "cell_type": "markdown",
   "metadata": {},
   "source": [
    "<img src=\"img/decoder_layer.png\" height=\"500px\"/>  "
   ]
  },
  {
   "cell_type": "code",
   "execution_count": 108,
   "metadata": {},
   "outputs": [],
   "source": [
    "class TransformerDecoderLayer(nn.Module):\n",
    "    def __init__(self, d_model: int, num_heads: int, d_ff: int, device: torch.device):\n",
    "        super().__init__()\n",
    "        self.masked_multi_head_attention = MultiHeadAttention(d_model=d_model, num_heads=num_heads)\n",
    "        self.layer_norm_1 = nn.LayerNorm(normalized_shape=d_model)\n",
    "\n",
    "        self.multi_head_cross_attention = MultiHeadAttention(d_model=d_model, num_heads=num_heads)\n",
    "        self.layer_norm_2 = nn.LayerNorm(normalized_shape=d_model)\n",
    "\n",
    "        self.feed_forward = PositionWiseFeedForwardNetwork(d_model=d_model, d_ff=d_ff)\n",
    "        self.layer_norm_3 = nn.LayerNorm(normalized_shape=d_model)\n",
    "\n",
    "        self.device = device\n",
    "    \n",
    "    def forward(self, decoder_input: torch.Tensor, encoder_output: torch.Tensor, mask: torch.Tensor) -> torch.Tensor:\n",
    "        x = self.layer_norm_1(decoder_input + self.masked_multi_head_attention(queries=decoder_input, keys=decoder_input, values=decoder_input, mask=mask))\n",
    "\n",
    "        x = self.layer_norm_2(x + self.multi_head_cross_attention(queries=x, keys=encoder_output, values=encoder_output, mask=None))\n",
    "\n",
    "        x = self.layer_norm_3(x + self.feed_forward(x))\n",
    "\n",
    "        return x"
   ]
  },
  {
   "cell_type": "markdown",
   "metadata": {},
   "source": [
    "## Smoke Test"
   ]
  },
  {
   "cell_type": "code",
   "execution_count": 109,
   "metadata": {},
   "outputs": [
    {
     "name": "stdout",
     "output_type": "stream",
     "text": [
      "decoder input shape: torch.Size([2, 16, 512])\n",
      "encoder output shape: torch.Size([2, 12, 512])\n",
      "decoder layer output shape: torch.Size([2, 16, 512])\n"
     ]
    }
   ],
   "source": [
    "decoder_layer = TransformerDecoderLayer(d_model=d_model, num_heads=num_heads, d_ff=d_ff, device=device).to(device)\n",
    "\n",
    "decoder_input = torch.randn((batch_size, target_max_seq_len, d_model)).to(device)\n",
    "encoder_output = torch.randn((batch_size, src_max_seq_len, d_model)).to(device)\n",
    "mask = torch.zeros((batch_size, num_heads, target_max_seq_len, target_max_seq_len)).to(device)\n",
    "\n",
    "print(f\"decoder input shape: {decoder_input.shape}\")\n",
    "print(f\"encoder output shape: {encoder_output.shape}\")\n",
    "print(f\"decoder layer output shape: {decoder_layer(decoder_input=decoder_input, encoder_output=encoder_output, mask=mask).shape}\")"
   ]
  },
  {
   "cell_type": "markdown",
   "metadata": {},
   "source": [
    "# Decoder"
   ]
  },
  {
   "cell_type": "markdown",
   "metadata": {},
   "source": [
    "<img src=\"img/decoder_layers.png\" height=\"500px\"/>"
   ]
  },
  {
   "cell_type": "code",
   "execution_count": 110,
   "metadata": {},
   "outputs": [],
   "source": [
    "class TransformerDecoder(nn.Module):\n",
    "    def __init__(self, num_layers: int, d_model: int, num_heads: int, output_projection_weight: nn.Parameter, d_ff: int, device: torch.device):\n",
    "        super().__init__()\n",
    "        self.num_heads = num_heads\n",
    "        self.device = device\n",
    "        self.layers = nn.ModuleList([TransformerDecoderLayer(d_model=d_model, num_heads=num_heads, d_ff=d_ff, device=device) for _ in range(num_layers)])\n",
    "        self.output_projection_weight = output_projection_weight\n",
    "\n",
    "    def forward(self, decoder_input: torch.Tensor, encoder_output: torch.Tensor) -> torch.Tensor:\n",
    "        batch_size, target_seq_len, _ = decoder_input.shape\n",
    "        mask = torch.tril(torch.ones((target_seq_len, target_seq_len), dtype=torch.bool))\n",
    "        mask = mask.unsqueeze(0).unsqueeze(1).expand(batch_size, self.num_heads, target_seq_len, target_seq_len).to(self.device)\n",
    "\n",
    "        for layer in self.layers:\n",
    "            decoder_input = layer(decoder_input=decoder_input, encoder_output=encoder_output, mask=mask)\n",
    "        \n",
    "        logits = torch.matmul(decoder_input, self.output_projection_weight)\n",
    "\n",
    "        return logits"
   ]
  },
  {
   "cell_type": "markdown",
   "metadata": {},
   "source": [
    "## Smoke Test"
   ]
  },
  {
   "cell_type": "code",
   "execution_count": 111,
   "metadata": {},
   "outputs": [
    {
     "name": "stdout",
     "output_type": "stream",
     "text": [
      "decoder input shape: torch.Size([2, 16, 512])\n",
      "encoder output shape: torch.Size([2, 12, 512])\n",
      "decoder output shape: torch.Size([2, 16, 32100])\n"
     ]
    }
   ],
   "source": [
    "output_projection_weight = nn.Parameter(torch.randn((d_model, text_embedder.vocab_size)))\n",
    "decoder = TransformerDecoder(num_layers=num_decoder_layers, d_model=d_model, num_heads=num_heads, output_projection_weight=output_projection_weight, d_ff=d_ff, device=device).to(device)\n",
    "\n",
    "decoder_input = torch.randn((batch_size, target_max_seq_len, d_model)).to(device)\n",
    "encoder_output = torch.randn((batch_size, src_max_seq_len, d_model)).to(device)\n",
    "\n",
    "print(f\"decoder input shape: {decoder_input.shape}\")\n",
    "print(f\"encoder output shape: {encoder_output.shape}\")\n",
    "print(f\"decoder output shape: {decoder(decoder_input=decoder_input, encoder_output=encoder_output).shape}\")"
   ]
  },
  {
   "cell_type": "markdown",
   "metadata": {},
   "source": [
    "# Transformer (Putting everything together!)"
   ]
  },
  {
   "cell_type": "markdown",
   "metadata": {},
   "source": [
    "<img src=\"img/transfomer_end_to_end.png\" height=\"500px\"/>"
   ]
  },
  {
   "cell_type": "code",
   "execution_count": 112,
   "metadata": {},
   "outputs": [],
   "source": [
    "class Transformer(nn.Module):\n",
    "    def __init__(self, d_model: int, d_ff: int, max_seq_length: int, num_encoder_layers: int, num_encoder_heads: int, num_decoder_layers: int, num_decoder_heads: int, device: torch.device):\n",
    "        super().__init__()\n",
    "        self.device = device\n",
    "        self.input_output_embedder = TextEmbedder(d_model=d_model, device=device, verbose=False).to(device)\n",
    "        self.positional_encoding = PositionalEncoding(d_model=d_model, max_seq_length=max_seq_length).to(device)\n",
    "\n",
    "        self.encoder = TransformerEncoder(num_layers=num_encoder_layers, num_heads=num_encoder_heads, d_model=d_model, d_ff=d_ff).to(device)\n",
    "\n",
    "        shared_embedding_weights = self.input_output_embedder.get_embedding_weights().T\n",
    "        output_projection_weight = nn.Parameter(shared_embedding_weights, requires_grad=True).to(device)\n",
    "\n",
    "        self.decoder = TransformerDecoder(num_layers=num_decoder_layers, d_model=d_model, num_heads=num_decoder_heads, output_projection_weight=output_projection_weight, d_ff=d_ff, device=device).to(device)\n",
    "    \n",
    "        self.loss_ignore_index = self.input_output_embedder.tokenizer.pad_token_id\n",
    "\n",
    "    def get_token_ids(self, sequences: list[str]) -> torch.Tensor:\n",
    "        return self.input_output_embedder.get_token_ids(sequences)\n",
    "\n",
    "    def forward(self, source_sequences: list[str], target_sequences: list[str]) -> torch.Tensor:\n",
    "        src_token_ids = self.get_token_ids(source_sequences)\n",
    "        target_token_ids = self.get_token_ids(target_sequences)\n",
    "\n",
    "        src_embeddings = self.input_output_embedder(src_token_ids)\n",
    "        src_embeddings = self.positional_encoding(src_embeddings)\n",
    "\n",
    "        encoder_output = self.encoder(src_embeddings)\n",
    "\n",
    "        decoder_input_ids = self.get_shifted_target_token_ids(target_token_ids)\n",
    "\n",
    "        decoder_embeddings = self.input_output_embedder(decoder_input_ids)\n",
    "        decoder_embeddings = self.positional_encoding(decoder_embeddings)\n",
    "\n",
    "        logits = self.decoder(decoder_input=decoder_embeddings, encoder_output=encoder_output)\n",
    "\n",
    "        return logits\n",
    "    \n",
    "    def get_shifted_target_token_ids(self, target_token_ids: torch.Tensor) -> torch.Tensor:\n",
    "        \"\"\"\n",
    "        We want the decoder inputs to be shifted to the right by one.\n",
    "        Ex: if the target is [\"hi how are you\"], the decoder inputs should be [\"<pad>\"] to predict \"hi\" then [\"<pad>\", \"hi\"] to predict \"how\" , ... , then [\"<pad>\", \"hi\", \"how\", \"are\"] to predict \"you\".\n",
    "        \"\"\"\n",
    "        sos_token_id = self.input_output_embedder.get_sos_token_id()\n",
    "\n",
    "        decoder_input_ids = torch.zeros_like(target_token_ids)\n",
    "        decoder_input_ids[:, 1:] = target_token_ids[:, :-1]\n",
    "        decoder_input_ids[:, 0] = sos_token_id\n",
    "\n",
    "        return decoder_input_ids\n",
    "    \n",
    "    def predict(self, source_sequences: list[str], max_len: int) -> list[str]:\n",
    "        batch_size = len(source_sequences)\n",
    "        sos_token_id = self.input_output_embedder.get_sos_token_id()\n",
    "        eos_token_id = self.input_output_embedder.get_eos_token_id()\n",
    "\n",
    "        src_token_ids = self.get_token_ids(source_sequences)\n",
    "\n",
    "        src_embeddings = self.input_output_embedder(src_token_ids)\n",
    "        src_embeddings = self.positional_encoding(src_embeddings)\n",
    "\n",
    "        encoder_output = self.encoder(src_embeddings)\n",
    "\n",
    "        decoder_previous_outputs_ids = torch.full((batch_size, 1), sos_token_id, dtype=torch.long, device=self.device)\n",
    "        decoder_previous_outputs_embeddings = self.input_output_embedder(decoder_previous_outputs_ids)\n",
    "        decoder_previous_outputs_embeddings = self.positional_encoding(decoder_previous_outputs_embeddings)\n",
    "\n",
    "        predicted_token_ids = None\n",
    "        finished = torch.zeros((batch_size), dtype=torch.bool, device=self.device)\n",
    "\n",
    "        for _ in range(max_len):\n",
    "            logits = self.decoder(decoder_input=decoder_previous_outputs_embeddings, encoder_output=encoder_output)\n",
    "            new_predicted_token_id = logits.argmax(dim=-1)[:, -1].unsqueeze(1)\n",
    "\n",
    "            if predicted_token_ids is None:\n",
    "                predicted_token_ids = new_predicted_token_id\n",
    "            else:\n",
    "                predicted_token_ids = torch.cat([predicted_token_ids, new_predicted_token_id], dim=1)\n",
    "\n",
    "\n",
    "            decoder_previous_outputs_ids = torch.cat([decoder_previous_outputs_ids, new_predicted_token_id], dim=1)\n",
    "            decoder_previous_outputs_embeddings = self.input_output_embedder(decoder_previous_outputs_ids)\n",
    "            decoder_previous_outputs_embeddings = self.positional_encoding(decoder_previous_outputs_embeddings)\n",
    "\n",
    "            finished = finished | (new_predicted_token_id.squeeze(1) == eos_token_id)\n",
    "\n",
    "            if finished.all():\n",
    "                break\n",
    "        \n",
    "        valid_token_mask = predicted_token_ids != eos_token_id\n",
    "        filtered_predicted_token_ids = [t[valid_token_mask[i]].tolist() for i, t in enumerate(predicted_token_ids)]\n",
    "        predicted_token = self.input_output_embedder.get_tokens(filtered_predicted_token_ids)\n",
    "\n",
    "        return predicted_token"
   ]
  },
  {
   "cell_type": "markdown",
   "metadata": {},
   "source": [
    "# Toy Training\n",
    "To ensure the implementation works we'll train on a toy dataset to confirm it can overfit it."
   ]
  },
  {
   "cell_type": "code",
   "execution_count": 113,
   "metadata": {},
   "outputs": [],
   "source": [
    "LR = 1e-4\n",
    "N_EPOCHS = 100"
   ]
  },
  {
   "cell_type": "code",
   "execution_count": 121,
   "metadata": {},
   "outputs": [
    {
     "name": "stdout",
     "output_type": "stream",
     "text": [
      "device: cuda\n"
     ]
    }
   ],
   "source": [
    "device = torch.device(\"cuda\" if torch.cuda.is_available() else \"cpu\")\n",
    "\n",
    "transformer_model = Transformer(d_model=d_model,\n",
    "                                d_ff=d_ff,\n",
    "                                max_seq_length=max(src_max_seq_len, target_max_seq_len),\n",
    "                                num_encoder_layers=num_encoder_layers,\n",
    "                                num_encoder_heads=num_encoder_heads,\n",
    "                                num_decoder_layers=num_decoder_layers,\n",
    "                                num_decoder_heads=num_decoder_heads,\n",
    "                                device=device)\n",
    "\n",
    "print(f\"device: {device}\")\n",
    "\n",
    "optimizer = torch.optim.AdamW(\n",
    "    params=transformer_model.parameters(),\n",
    "    lr=LR\n",
    ")\n",
    "\n",
    "criterion = nn.CrossEntropyLoss(ignore_index=transformer_model.loss_ignore_index)"
   ]
  },
  {
   "cell_type": "code",
   "execution_count": 122,
   "metadata": {},
   "outputs": [
    {
     "data": {
      "application/vnd.jupyter.widget-view+json": {
       "model_id": "3e7e0ebc1f3945938f8b156dafac2f53",
       "version_major": 2,
       "version_minor": 0
      },
      "text/plain": [
       "Training:   0%|          | 0/100 [00:00<?, ?epoch/s]"
      ]
     },
     "metadata": {},
     "output_type": "display_data"
    }
   ],
   "source": [
    "train_losses = []\n",
    "\n",
    "pbar = tqdm(range(N_EPOCHS), desc=\"Training\", unit=\"epoch\")\n",
    "\n",
    "for n in pbar:\n",
    "    \n",
    "    logits = transformer_model(source_sequences=src_seqs, target_sequences=target_seqs)\n",
    "    logits_flat = logits.reshape(-1, logits.shape[-1])\n",
    "\n",
    "    target_token_ids = transformer_model.get_token_ids(target_seqs)\n",
    "    target_tokens_flat = target_token_ids.view(-1)\n",
    "\n",
    "    train_loss = criterion(logits_flat, target_tokens_flat)\n",
    "    \n",
    "    train_losses.append(train_loss.item())\n",
    "    pbar.set_postfix(train_loss=train_loss.item())\n",
    "\n",
    "    optimizer.zero_grad()\n",
    "    train_loss.backward()\n",
    "    optimizer.step()"
   ]
  },
  {
   "cell_type": "code",
   "execution_count": 123,
   "metadata": {},
   "outputs": [
    {
     "data": {
      "text/plain": [
       "Text(0.5, 1.0, 'Training Loss')"
      ]
     },
     "execution_count": 123,
     "metadata": {},
     "output_type": "execute_result"
    },
    {
     "data": {
      "image/png": "[encoded data removed]",
      "text/plain": [
       "<Figure size 640x480 with 1 Axes>"
      ]
     },
     "metadata": {},
     "output_type": "display_data"
    }
   ],
   "source": [
    "fig, ax = plt.subplots()\n",
    "x = torch.arange(0, N_EPOCHS, 1)\n",
    "y = train_losses\n",
    "ax.plot(x, y)\n",
    "ax.set_title(\"Training Loss\")"
   ]
  },
  {
   "cell_type": "markdown",
   "metadata": {},
   "source": [
    "# Prediction"
   ]
  },
  {
   "cell_type": "code",
   "execution_count": 124,
   "metadata": {},
   "outputs": [
    {
     "name": "stdout",
     "output_type": "stream",
     "text": [
      "Input        : ['Hello world!', 'Hi, how are you today?']\n",
      "Ground truth : ['Bonjour tout le monde!', \"Bonjour, comment allez-vous aujourd'hui?\"]\n",
      "Predicted    : ['Bonjour tout le monde!', \"Bonjour, comment allez-vous aujourd'hui?\"]\n"
     ]
    }
   ],
   "source": [
    "print(f\"Input        : {src_seqs}\")\n",
    "print(f\"Ground truth : {target_seqs}\")\n",
    "y_hat = transformer_model.predict(source_sequences=src_seqs, max_len=target_max_seq_len)\n",
    "print(f\"Predicted    : {y_hat}\")"
   ]
  }
 ],
 "metadata": {
  "kernelspec": {
   "display_name": "Python 3",
   "language": "python",
   "name": "python3"
  },
  "language_info": {
   "codemirror_mode": {
    "name": "ipython",
    "version": 3
   },
   "file_extension": ".py",
   "mimetype": "text/x-python",
   "name": "python",
   "nbconvert_exporter": "python",
   "pygments_lexer": "ipython3",
   "version": "3.11.10"
  },
  "orig_nbformat": 4
 },
 "nbformat": 4,
 "nbformat_minor": 2
}
